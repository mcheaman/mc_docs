{
  "nbformat": 4,
  "nbformat_minor": 0,
  "metadata": {
    "colab": {
      "name": "DATA311FP_Prediction.ipynb",
      "provenance": [],
      "collapsed_sections": []
    },
    "kernelspec": {
      "name": "python3",
      "display_name": "Python 3"
    },
    "language_info": {
      "name": "python"
    }
  },
  "cells": [
    {
      "cell_type": "code",
      "metadata": {
        "id": "IDk7vrJBaHNC"
      },
      "source": [
        "from google.colab import files\n",
        "import pandas as pd\n",
        "import numpy as np\n",
        "import matplotlib.pyplot as plt\n",
        "import seaborn as sns\n",
        "import time\n",
        "from sklearn.metrics import recall_score\n",
        "from sklearn.metrics import precision_score\n",
        "from sklearn.metrics import f1_score\n",
        "from sklearn.metrics import accuracy_score\n",
        "from sklearn.metrics import roc_auc_score\n",
        "from sklearn.metrics import roc_curve\n",
        "from sklearn.metrics import RocCurveDisplay\n",
        "from sklearn import preprocessing\n",
        "from sklearn import svm\n",
        "from sklearn.linear_model import LogisticRegression\n",
        "from sklearn.ensemble import RandomForestClassifier\n",
        "from sklearn.neighbors import KNeighborsClassifier"
      ],
      "execution_count": null,
      "outputs": []
    },
    {
      "cell_type": "code",
      "metadata": {
        "colab": {
          "resources": {
            "http://localhost:8080/nbextensions/google.colab/files.js": {
              "data": "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",
              "ok": true,
              "headers": [
                [
                  "content-type",
                  "application/javascript"
                ]
              ],
              "status": 200,
              "status_text": ""
            }
          },
          "base_uri": "https://localhost:8080/",
          "height": 72
        },
        "id": "Rn_P8PzcaPlX",
        "outputId": "f50631b6-bd60-4578-e0ad-292c3caed517"
      },
      "source": [
        "data_import = files.upload()"
      ],
      "execution_count": null,
      "outputs": [
        {
          "output_type": "display_data",
          "data": {
            "text/html": [
              "\n",
              "     <input type=\"file\" id=\"files-9f889b81-212d-488b-b179-99987b6c81b8\" name=\"files[]\" multiple disabled\n",
              "        style=\"border:none\" />\n",
              "     <output id=\"result-9f889b81-212d-488b-b179-99987b6c81b8\">\n",
              "      Upload widget is only available when the cell has been executed in the\n",
              "      current browser session. Please rerun this cell to enable.\n",
              "      </output>\n",
              "      <script src=\"/nbextensions/google.colab/files.js\"></script> "
            ],
            "text/plain": [
              "<IPython.core.display.HTML object>"
            ]
          },
          "metadata": {}
        },
        {
          "output_type": "stream",
          "name": "stdout",
          "text": [
            "Saving final_song_set.csv to final_song_set.csv\n"
          ]
        }
      ]
    },
    {
      "cell_type": "code",
      "metadata": {
        "id": "1GaMhYkTXvCc",
        "colab": {
          "base_uri": "https://localhost:8080/",
          "height": 419
        },
        "outputId": "e9ccecff-025a-4db1-ca72-6f00fdd013c7"
      },
      "source": [
        "raw_songs = pd.read_csv('final_song_set.csv').drop(columns= 'Unnamed: 0').rename(columns={\"top genre\": \"genre\", \"pop\": \"popularity\"})\n",
        "raw_songs"
      ],
      "execution_count": null,
      "outputs": [
        {
          "output_type": "execute_result",
          "data": {
            "text/html": [
              "<div>\n",
              "<style scoped>\n",
              "    .dataframe tbody tr th:only-of-type {\n",
              "        vertical-align: middle;\n",
              "    }\n",
              "\n",
              "    .dataframe tbody tr th {\n",
              "        vertical-align: top;\n",
              "    }\n",
              "\n",
              "    .dataframe thead th {\n",
              "        text-align: right;\n",
              "    }\n",
              "</style>\n",
              "<table border=\"1\" class=\"dataframe\">\n",
              "  <thead>\n",
              "    <tr style=\"text-align: right;\">\n",
              "      <th></th>\n",
              "      <th>Mason_Like</th>\n",
              "      <th>Mary_Like</th>\n",
              "      <th>title</th>\n",
              "      <th>artist</th>\n",
              "      <th>genre</th>\n",
              "      <th>year</th>\n",
              "      <th>added</th>\n",
              "      <th>bpm</th>\n",
              "      <th>nrgy</th>\n",
              "      <th>dnce</th>\n",
              "      <th>dB</th>\n",
              "      <th>live</th>\n",
              "      <th>val</th>\n",
              "      <th>dur</th>\n",
              "      <th>acous</th>\n",
              "      <th>spch</th>\n",
              "      <th>popularity</th>\n",
              "    </tr>\n",
              "  </thead>\n",
              "  <tbody>\n",
              "    <tr>\n",
              "      <th>0</th>\n",
              "      <td>0</td>\n",
              "      <td>1</td>\n",
              "      <td>Snake Eyes</td>\n",
              "      <td>Feint</td>\n",
              "      <td>dance</td>\n",
              "      <td>2012</td>\n",
              "      <td>1969‑12‑31</td>\n",
              "      <td>174</td>\n",
              "      <td>82</td>\n",
              "      <td>50</td>\n",
              "      <td>-6</td>\n",
              "      <td>26</td>\n",
              "      <td>18</td>\n",
              "      <td>265</td>\n",
              "      <td>0</td>\n",
              "      <td>7</td>\n",
              "      <td>60</td>\n",
              "    </tr>\n",
              "    <tr>\n",
              "      <th>1</th>\n",
              "      <td>0</td>\n",
              "      <td>1</td>\n",
              "      <td>Blame</td>\n",
              "      <td>Egypt Central</td>\n",
              "      <td>alternative metal</td>\n",
              "      <td>2011</td>\n",
              "      <td>1969‑12‑31</td>\n",
              "      <td>168</td>\n",
              "      <td>92</td>\n",
              "      <td>40</td>\n",
              "      <td>-5</td>\n",
              "      <td>5</td>\n",
              "      <td>42</td>\n",
              "      <td>199</td>\n",
              "      <td>0</td>\n",
              "      <td>17</td>\n",
              "      <td>25</td>\n",
              "    </tr>\n",
              "    <tr>\n",
              "      <th>2</th>\n",
              "      <td>0</td>\n",
              "      <td>1</td>\n",
              "      <td>rap music</td>\n",
              "      <td>Lil Darkie</td>\n",
              "      <td>rap</td>\n",
              "      <td>2020</td>\n",
              "      <td>1969‑12‑31</td>\n",
              "      <td>127</td>\n",
              "      <td>96</td>\n",
              "      <td>58</td>\n",
              "      <td>1</td>\n",
              "      <td>7</td>\n",
              "      <td>72</td>\n",
              "      <td>197</td>\n",
              "      <td>29</td>\n",
              "      <td>36</td>\n",
              "      <td>67</td>\n",
              "    </tr>\n",
              "    <tr>\n",
              "      <th>3</th>\n",
              "      <td>0</td>\n",
              "      <td>1</td>\n",
              "      <td>spy?</td>\n",
              "      <td>WHOKILLEDXIX</td>\n",
              "      <td>pop</td>\n",
              "      <td>2020</td>\n",
              "      <td>1969‑12‑31</td>\n",
              "      <td>100</td>\n",
              "      <td>56</td>\n",
              "      <td>87</td>\n",
              "      <td>-5</td>\n",
              "      <td>10</td>\n",
              "      <td>65</td>\n",
              "      <td>154</td>\n",
              "      <td>6</td>\n",
              "      <td>6</td>\n",
              "      <td>75</td>\n",
              "    </tr>\n",
              "    <tr>\n",
              "      <th>4</th>\n",
              "      <td>0</td>\n",
              "      <td>1</td>\n",
              "      <td>North Memphis</td>\n",
              "      <td>Pharmacist</td>\n",
              "      <td>aesthetic rap</td>\n",
              "      <td>2019</td>\n",
              "      <td>1969‑12‑31</td>\n",
              "      <td>167</td>\n",
              "      <td>94</td>\n",
              "      <td>72</td>\n",
              "      <td>-6</td>\n",
              "      <td>7</td>\n",
              "      <td>90</td>\n",
              "      <td>136</td>\n",
              "      <td>0</td>\n",
              "      <td>6</td>\n",
              "      <td>75</td>\n",
              "    </tr>\n",
              "    <tr>\n",
              "      <th>...</th>\n",
              "      <td>...</td>\n",
              "      <td>...</td>\n",
              "      <td>...</td>\n",
              "      <td>...</td>\n",
              "      <td>...</td>\n",
              "      <td>...</td>\n",
              "      <td>...</td>\n",
              "      <td>...</td>\n",
              "      <td>...</td>\n",
              "      <td>...</td>\n",
              "      <td>...</td>\n",
              "      <td>...</td>\n",
              "      <td>...</td>\n",
              "      <td>...</td>\n",
              "      <td>...</td>\n",
              "      <td>...</td>\n",
              "      <td>...</td>\n",
              "    </tr>\n",
              "    <tr>\n",
              "      <th>295</th>\n",
              "      <td>0</td>\n",
              "      <td>1</td>\n",
              "      <td>Doubt Me</td>\n",
              "      <td>Ness The Kid</td>\n",
              "      <td>rap</td>\n",
              "      <td>2021</td>\n",
              "      <td>2021‑11‑04</td>\n",
              "      <td>91</td>\n",
              "      <td>65</td>\n",
              "      <td>77</td>\n",
              "      <td>-6</td>\n",
              "      <td>11</td>\n",
              "      <td>49</td>\n",
              "      <td>127</td>\n",
              "      <td>0</td>\n",
              "      <td>8</td>\n",
              "      <td>52</td>\n",
              "    </tr>\n",
              "    <tr>\n",
              "      <th>296</th>\n",
              "      <td>1</td>\n",
              "      <td>0</td>\n",
              "      <td>24/7</td>\n",
              "      <td>Liam Tracy</td>\n",
              "      <td>deep underground hip hop</td>\n",
              "      <td>2021</td>\n",
              "      <td>2021‑11‑08</td>\n",
              "      <td>128</td>\n",
              "      <td>67</td>\n",
              "      <td>52</td>\n",
              "      <td>-7</td>\n",
              "      <td>11</td>\n",
              "      <td>41</td>\n",
              "      <td>169</td>\n",
              "      <td>55</td>\n",
              "      <td>24</td>\n",
              "      <td>50</td>\n",
              "    </tr>\n",
              "    <tr>\n",
              "      <th>297</th>\n",
              "      <td>0</td>\n",
              "      <td>0</td>\n",
              "      <td>If It Was Easy</td>\n",
              "      <td>PTM</td>\n",
              "      <td>rap</td>\n",
              "      <td>2021</td>\n",
              "      <td>2021‑10‑22</td>\n",
              "      <td>120</td>\n",
              "      <td>64</td>\n",
              "      <td>84</td>\n",
              "      <td>-7</td>\n",
              "      <td>11</td>\n",
              "      <td>59</td>\n",
              "      <td>179</td>\n",
              "      <td>44</td>\n",
              "      <td>5</td>\n",
              "      <td>49</td>\n",
              "    </tr>\n",
              "    <tr>\n",
              "      <th>298</th>\n",
              "      <td>0</td>\n",
              "      <td>0</td>\n",
              "      <td>Top for a Pancake</td>\n",
              "      <td>3NIGMA</td>\n",
              "      <td>rap</td>\n",
              "      <td>2019</td>\n",
              "      <td>2021‑10‑05</td>\n",
              "      <td>150</td>\n",
              "      <td>54</td>\n",
              "      <td>90</td>\n",
              "      <td>-9</td>\n",
              "      <td>11</td>\n",
              "      <td>14</td>\n",
              "      <td>131</td>\n",
              "      <td>1</td>\n",
              "      <td>33</td>\n",
              "      <td>43</td>\n",
              "    </tr>\n",
              "    <tr>\n",
              "      <th>299</th>\n",
              "      <td>0</td>\n",
              "      <td>0</td>\n",
              "      <td>333!</td>\n",
              "      <td>King Jesse</td>\n",
              "      <td>rap</td>\n",
              "      <td>2021</td>\n",
              "      <td>2021‑11‑10</td>\n",
              "      <td>80</td>\n",
              "      <td>59</td>\n",
              "      <td>47</td>\n",
              "      <td>-10</td>\n",
              "      <td>72</td>\n",
              "      <td>33</td>\n",
              "      <td>186</td>\n",
              "      <td>2</td>\n",
              "      <td>6</td>\n",
              "      <td>41</td>\n",
              "    </tr>\n",
              "  </tbody>\n",
              "</table>\n",
              "<p>300 rows × 17 columns</p>\n",
              "</div>"
            ],
            "text/plain": [
              "     Mason_Like  Mary_Like              title  ... acous spch  popularity\n",
              "0             0          1         Snake Eyes  ...     0    7          60\n",
              "1             0          1              Blame  ...     0   17          25\n",
              "2             0          1          rap music  ...    29   36          67\n",
              "3             0          1               spy?  ...     6    6          75\n",
              "4             0          1      North Memphis  ...     0    6          75\n",
              "..          ...        ...                ...  ...   ...  ...         ...\n",
              "295           0          1           Doubt Me  ...     0    8          52\n",
              "296           1          0               24/7  ...    55   24          50\n",
              "297           0          0     If It Was Easy  ...    44    5          49\n",
              "298           0          0  Top for a Pancake  ...     1   33          43\n",
              "299           0          0               333!  ...     2    6          41\n",
              "\n",
              "[300 rows x 17 columns]"
            ]
          },
          "metadata": {},
          "execution_count": 3
        }
      ]
    },
    {
      "cell_type": "markdown",
      "metadata": {
        "id": "V5xXuy0dFjHU"
      },
      "source": [
        "In order to get our dataset ready for model training, we need to remove the extraneous index, and rename top genre to genre for ease of reference and pop to popularity to prevent confusion between popularity and pop the genre."
      ]
    },
    {
      "cell_type": "markdown",
      "metadata": {
        "id": "6sqmWqsPmZ4a"
      },
      "source": [
        "## Song Affinity Prediction"
      ]
    },
    {
      "cell_type": "markdown",
      "metadata": {
        "id": "0Q6dq0v5VspN"
      },
      "source": [
        "###Genre Preprocessing"
      ]
    },
    {
      "cell_type": "markdown",
      "metadata": {
        "id": "NVIEqu_HGC9X"
      },
      "source": [
        "In order to use genre in the prediction model, we need to encode it. We weren't sure whether ordinal encoding or one hot encoding would work better, so we prepared the dataset for both. Below, we assign songs to a genre based on common base genres, and add any missing genres to that list."
      ]
    },
    {
      "cell_type": "code",
      "metadata": {
        "id": "niduBX-kQYOD"
      },
      "source": [
        "base_genres = ['rap', 'pop', 'rock', 'hip hop', 'r&b', 'dance', 'metal', 'country']\n",
        "for index, row in raw_songs.iterrows():\n",
        "    for genre in base_genres:\n",
        "      if genre in row['genre']:\n",
        "        raw_songs.at[index, 'genre'] = genre"
      ],
      "execution_count": null,
      "outputs": []
    },
    {
      "cell_type": "markdown",
      "metadata": {
        "id": "EOfdCwOrHChW"
      },
      "source": [
        "We also need to drop columns that we aren't going to use for regression, so we drop song title, date added, and song artist. We then encoded genre using one hot encoding, then appended the new encoded columns to the original dataset. Afterwards, we encoded the genre column using ordinal encoding, which gave us a dataset with both an ordinally encoded genre column and one hot encoded columns that we could split later."
      ]
    },
    {
      "cell_type": "code",
      "metadata": {
        "colab": {
          "base_uri": "https://localhost:8080/",
          "height": 204
        },
        "id": "NoqyA2OBl70v",
        "outputId": "303c4591-aa2e-42ba-c3ee-c79b6c9f4b9f"
      },
      "source": [
        "simple = raw_songs.drop(columns=['title', 'added', 'artist'])\n",
        "one_hots = pd.get_dummies(simple['genre'])\n",
        "genre_processed = simple.merge(one_hots, how = 'left',  left_index=True, right_index=True)\n",
        "enc = preprocessing.OrdinalEncoder()\n",
        "genre_processed[\"genre\"] = enc.fit_transform(genre_processed[\"genre\"].values.reshape(-1,1))\n",
        "genre_processed.head()"
      ],
      "execution_count": null,
      "outputs": [
        {
          "output_type": "execute_result",
          "data": {
            "text/html": [
              "<div>\n",
              "<style scoped>\n",
              "    .dataframe tbody tr th:only-of-type {\n",
              "        vertical-align: middle;\n",
              "    }\n",
              "\n",
              "    .dataframe tbody tr th {\n",
              "        vertical-align: top;\n",
              "    }\n",
              "\n",
              "    .dataframe thead th {\n",
              "        text-align: right;\n",
              "    }\n",
              "</style>\n",
              "<table border=\"1\" class=\"dataframe\">\n",
              "  <thead>\n",
              "    <tr style=\"text-align: right;\">\n",
              "      <th></th>\n",
              "      <th>Mason_Like</th>\n",
              "      <th>Mary_Like</th>\n",
              "      <th>genre</th>\n",
              "      <th>year</th>\n",
              "      <th>bpm</th>\n",
              "      <th>nrgy</th>\n",
              "      <th>dnce</th>\n",
              "      <th>dB</th>\n",
              "      <th>live</th>\n",
              "      <th>val</th>\n",
              "      <th>dur</th>\n",
              "      <th>acous</th>\n",
              "      <th>spch</th>\n",
              "      <th>popularity</th>\n",
              "      <th>country</th>\n",
              "      <th>dance</th>\n",
              "      <th>hip hop</th>\n",
              "      <th>metal</th>\n",
              "      <th>pop</th>\n",
              "      <th>r&amp;b</th>\n",
              "      <th>rap</th>\n",
              "      <th>rock</th>\n",
              "      <th>soundtrack</th>\n",
              "    </tr>\n",
              "  </thead>\n",
              "  <tbody>\n",
              "    <tr>\n",
              "      <th>0</th>\n",
              "      <td>0</td>\n",
              "      <td>1</td>\n",
              "      <td>1.0</td>\n",
              "      <td>2012</td>\n",
              "      <td>174</td>\n",
              "      <td>82</td>\n",
              "      <td>50</td>\n",
              "      <td>-6</td>\n",
              "      <td>26</td>\n",
              "      <td>18</td>\n",
              "      <td>265</td>\n",
              "      <td>0</td>\n",
              "      <td>7</td>\n",
              "      <td>60</td>\n",
              "      <td>0</td>\n",
              "      <td>1</td>\n",
              "      <td>0</td>\n",
              "      <td>0</td>\n",
              "      <td>0</td>\n",
              "      <td>0</td>\n",
              "      <td>0</td>\n",
              "      <td>0</td>\n",
              "      <td>0</td>\n",
              "    </tr>\n",
              "    <tr>\n",
              "      <th>1</th>\n",
              "      <td>0</td>\n",
              "      <td>1</td>\n",
              "      <td>3.0</td>\n",
              "      <td>2011</td>\n",
              "      <td>168</td>\n",
              "      <td>92</td>\n",
              "      <td>40</td>\n",
              "      <td>-5</td>\n",
              "      <td>5</td>\n",
              "      <td>42</td>\n",
              "      <td>199</td>\n",
              "      <td>0</td>\n",
              "      <td>17</td>\n",
              "      <td>25</td>\n",
              "      <td>0</td>\n",
              "      <td>0</td>\n",
              "      <td>0</td>\n",
              "      <td>1</td>\n",
              "      <td>0</td>\n",
              "      <td>0</td>\n",
              "      <td>0</td>\n",
              "      <td>0</td>\n",
              "      <td>0</td>\n",
              "    </tr>\n",
              "    <tr>\n",
              "      <th>2</th>\n",
              "      <td>0</td>\n",
              "      <td>1</td>\n",
              "      <td>6.0</td>\n",
              "      <td>2020</td>\n",
              "      <td>127</td>\n",
              "      <td>96</td>\n",
              "      <td>58</td>\n",
              "      <td>1</td>\n",
              "      <td>7</td>\n",
              "      <td>72</td>\n",
              "      <td>197</td>\n",
              "      <td>29</td>\n",
              "      <td>36</td>\n",
              "      <td>67</td>\n",
              "      <td>0</td>\n",
              "      <td>0</td>\n",
              "      <td>0</td>\n",
              "      <td>0</td>\n",
              "      <td>0</td>\n",
              "      <td>0</td>\n",
              "      <td>1</td>\n",
              "      <td>0</td>\n",
              "      <td>0</td>\n",
              "    </tr>\n",
              "    <tr>\n",
              "      <th>3</th>\n",
              "      <td>0</td>\n",
              "      <td>1</td>\n",
              "      <td>4.0</td>\n",
              "      <td>2020</td>\n",
              "      <td>100</td>\n",
              "      <td>56</td>\n",
              "      <td>87</td>\n",
              "      <td>-5</td>\n",
              "      <td>10</td>\n",
              "      <td>65</td>\n",
              "      <td>154</td>\n",
              "      <td>6</td>\n",
              "      <td>6</td>\n",
              "      <td>75</td>\n",
              "      <td>0</td>\n",
              "      <td>0</td>\n",
              "      <td>0</td>\n",
              "      <td>0</td>\n",
              "      <td>1</td>\n",
              "      <td>0</td>\n",
              "      <td>0</td>\n",
              "      <td>0</td>\n",
              "      <td>0</td>\n",
              "    </tr>\n",
              "    <tr>\n",
              "      <th>4</th>\n",
              "      <td>0</td>\n",
              "      <td>1</td>\n",
              "      <td>6.0</td>\n",
              "      <td>2019</td>\n",
              "      <td>167</td>\n",
              "      <td>94</td>\n",
              "      <td>72</td>\n",
              "      <td>-6</td>\n",
              "      <td>7</td>\n",
              "      <td>90</td>\n",
              "      <td>136</td>\n",
              "      <td>0</td>\n",
              "      <td>6</td>\n",
              "      <td>75</td>\n",
              "      <td>0</td>\n",
              "      <td>0</td>\n",
              "      <td>0</td>\n",
              "      <td>0</td>\n",
              "      <td>0</td>\n",
              "      <td>0</td>\n",
              "      <td>1</td>\n",
              "      <td>0</td>\n",
              "      <td>0</td>\n",
              "    </tr>\n",
              "  </tbody>\n",
              "</table>\n",
              "</div>"
            ],
            "text/plain": [
              "   Mason_Like  Mary_Like  genre  year  bpm  ...  pop  r&b  rap  rock  soundtrack\n",
              "0           0          1    1.0  2012  174  ...    0    0    0     0           0\n",
              "1           0          1    3.0  2011  168  ...    0    0    0     0           0\n",
              "2           0          1    6.0  2020  127  ...    0    0    1     0           0\n",
              "3           0          1    4.0  2020  100  ...    1    0    0     0           0\n",
              "4           0          1    6.0  2019  167  ...    0    0    1     0           0\n",
              "\n",
              "[5 rows x 23 columns]"
            ]
          },
          "metadata": {},
          "execution_count": 5
        }
      ]
    },
    {
      "cell_type": "markdown",
      "metadata": {
        "id": "rMn57B81mTQ4"
      },
      "source": [
        "### Split into Train, Validation, and Test sets"
      ]
    },
    {
      "cell_type": "markdown",
      "metadata": {
        "id": "aAMhwWh4IAEn"
      },
      "source": [
        "We split the dataset into 3 sets. 60% of the data went into a training set, 20% into a validation set, and 20% into a test set. We then created sets for the ground truth labels and removed the labels from the training, validation, and test sets."
      ]
    },
    {
      "cell_type": "code",
      "metadata": {
        "id": "kIaYIsawdHml",
        "colab": {
          "base_uri": "https://localhost:8080/",
          "height": 204
        },
        "outputId": "76445c1e-0a3c-4d8f-8084-08f0ee13e58a"
      },
      "source": [
        "songtrain, songval, songtest = np.split(genre_processed.sample(frac = 1, random_state = 33), [int(.6*len(raw_songs)), int(.8*len(raw_songs))])\n",
        "train_labels =  songtrain[['Mary_Like', 'Mason_Like']]\n",
        "val_labels =  songval[['Mary_Like', 'Mason_Like']]\n",
        "test_labels =  songtest[['Mary_Like', 'Mason_Like']]\n",
        "\n",
        "songtrain = songtrain.drop(columns = ['Mary_Like', 'Mason_Like'])\n",
        "songval = songval.drop(columns = ['Mary_Like', 'Mason_Like'])\n",
        "songtest = songtest.drop(columns = ['Mary_Like', 'Mason_Like'])\n",
        "\n",
        "songtrain.head()"
      ],
      "execution_count": null,
      "outputs": [
        {
          "output_type": "execute_result",
          "data": {
            "text/html": [
              "<div>\n",
              "<style scoped>\n",
              "    .dataframe tbody tr th:only-of-type {\n",
              "        vertical-align: middle;\n",
              "    }\n",
              "\n",
              "    .dataframe tbody tr th {\n",
              "        vertical-align: top;\n",
              "    }\n",
              "\n",
              "    .dataframe thead th {\n",
              "        text-align: right;\n",
              "    }\n",
              "</style>\n",
              "<table border=\"1\" class=\"dataframe\">\n",
              "  <thead>\n",
              "    <tr style=\"text-align: right;\">\n",
              "      <th></th>\n",
              "      <th>genre</th>\n",
              "      <th>year</th>\n",
              "      <th>bpm</th>\n",
              "      <th>nrgy</th>\n",
              "      <th>dnce</th>\n",
              "      <th>dB</th>\n",
              "      <th>live</th>\n",
              "      <th>val</th>\n",
              "      <th>dur</th>\n",
              "      <th>acous</th>\n",
              "      <th>spch</th>\n",
              "      <th>popularity</th>\n",
              "      <th>country</th>\n",
              "      <th>dance</th>\n",
              "      <th>hip hop</th>\n",
              "      <th>metal</th>\n",
              "      <th>pop</th>\n",
              "      <th>r&amp;b</th>\n",
              "      <th>rap</th>\n",
              "      <th>rock</th>\n",
              "      <th>soundtrack</th>\n",
              "    </tr>\n",
              "  </thead>\n",
              "  <tbody>\n",
              "    <tr>\n",
              "      <th>198</th>\n",
              "      <td>3.0</td>\n",
              "      <td>2015</td>\n",
              "      <td>102</td>\n",
              "      <td>98</td>\n",
              "      <td>34</td>\n",
              "      <td>-3</td>\n",
              "      <td>12</td>\n",
              "      <td>15</td>\n",
              "      <td>251</td>\n",
              "      <td>1</td>\n",
              "      <td>22</td>\n",
              "      <td>27</td>\n",
              "      <td>0</td>\n",
              "      <td>0</td>\n",
              "      <td>0</td>\n",
              "      <td>1</td>\n",
              "      <td>0</td>\n",
              "      <td>0</td>\n",
              "      <td>0</td>\n",
              "      <td>0</td>\n",
              "      <td>0</td>\n",
              "    </tr>\n",
              "    <tr>\n",
              "      <th>273</th>\n",
              "      <td>4.0</td>\n",
              "      <td>2018</td>\n",
              "      <td>89</td>\n",
              "      <td>68</td>\n",
              "      <td>56</td>\n",
              "      <td>-8</td>\n",
              "      <td>12</td>\n",
              "      <td>32</td>\n",
              "      <td>174</td>\n",
              "      <td>56</td>\n",
              "      <td>32</td>\n",
              "      <td>77</td>\n",
              "      <td>0</td>\n",
              "      <td>0</td>\n",
              "      <td>0</td>\n",
              "      <td>0</td>\n",
              "      <td>1</td>\n",
              "      <td>0</td>\n",
              "      <td>0</td>\n",
              "      <td>0</td>\n",
              "      <td>0</td>\n",
              "    </tr>\n",
              "    <tr>\n",
              "      <th>269</th>\n",
              "      <td>6.0</td>\n",
              "      <td>2018</td>\n",
              "      <td>140</td>\n",
              "      <td>56</td>\n",
              "      <td>75</td>\n",
              "      <td>-8</td>\n",
              "      <td>11</td>\n",
              "      <td>46</td>\n",
              "      <td>221</td>\n",
              "      <td>55</td>\n",
              "      <td>11</td>\n",
              "      <td>79</td>\n",
              "      <td>0</td>\n",
              "      <td>0</td>\n",
              "      <td>0</td>\n",
              "      <td>0</td>\n",
              "      <td>0</td>\n",
              "      <td>0</td>\n",
              "      <td>1</td>\n",
              "      <td>0</td>\n",
              "      <td>0</td>\n",
              "    </tr>\n",
              "    <tr>\n",
              "      <th>240</th>\n",
              "      <td>2.0</td>\n",
              "      <td>2018</td>\n",
              "      <td>77</td>\n",
              "      <td>45</td>\n",
              "      <td>75</td>\n",
              "      <td>-9</td>\n",
              "      <td>55</td>\n",
              "      <td>36</td>\n",
              "      <td>199</td>\n",
              "      <td>3</td>\n",
              "      <td>11</td>\n",
              "      <td>82</td>\n",
              "      <td>0</td>\n",
              "      <td>0</td>\n",
              "      <td>1</td>\n",
              "      <td>0</td>\n",
              "      <td>0</td>\n",
              "      <td>0</td>\n",
              "      <td>0</td>\n",
              "      <td>0</td>\n",
              "      <td>0</td>\n",
              "    </tr>\n",
              "    <tr>\n",
              "      <th>56</th>\n",
              "      <td>3.0</td>\n",
              "      <td>2003</td>\n",
              "      <td>180</td>\n",
              "      <td>95</td>\n",
              "      <td>43</td>\n",
              "      <td>-4</td>\n",
              "      <td>51</td>\n",
              "      <td>77</td>\n",
              "      <td>195</td>\n",
              "      <td>0</td>\n",
              "      <td>9</td>\n",
              "      <td>31</td>\n",
              "      <td>0</td>\n",
              "      <td>0</td>\n",
              "      <td>0</td>\n",
              "      <td>1</td>\n",
              "      <td>0</td>\n",
              "      <td>0</td>\n",
              "      <td>0</td>\n",
              "      <td>0</td>\n",
              "      <td>0</td>\n",
              "    </tr>\n",
              "  </tbody>\n",
              "</table>\n",
              "</div>"
            ],
            "text/plain": [
              "     genre  year  bpm  nrgy  dnce  dB  ...  metal  pop  r&b  rap  rock  soundtrack\n",
              "198    3.0  2015  102    98    34  -3  ...      1    0    0    0     0           0\n",
              "273    4.0  2018   89    68    56  -8  ...      0    1    0    0     0           0\n",
              "269    6.0  2018  140    56    75  -8  ...      0    0    0    1     0           0\n",
              "240    2.0  2018   77    45    75  -9  ...      0    0    0    0     0           0\n",
              "56     3.0  2003  180    95    43  -4  ...      1    0    0    0     0           0\n",
              "\n",
              "[5 rows x 21 columns]"
            ]
          },
          "metadata": {},
          "execution_count": 6
        }
      ]
    },
    {
      "cell_type": "markdown",
      "metadata": {
        "id": "YqH99g8_0Q5Z"
      },
      "source": [
        "### Evaluation Metrics\n",
        "Since we are working on a binary classification task, ideal evaluation metrics will be recall, precision, and fscore. These will be calculated using sklearn.metrics functions. "
      ]
    },
    {
      "cell_type": "markdown",
      "metadata": {
        "id": "TS8HnEIe4w-w"
      },
      "source": [
        "### Baselines"
      ]
    },
    {
      "cell_type": "markdown",
      "metadata": {
        "id": "5Wlqc_knIZrd"
      },
      "source": [
        "In order to show that our models are a better way of correctly predicting a label, we used a random number generator to generate a baseline. Due to the proportion of liked songs in our dataset being .44 for Mary and .56 for Mason, we used those numbers as thresholds for deciding whether a generated number falls under a like or a dislike. If a generated number is .44 or less, and the person is Mary, then it is recorded as a like. If a generated number is .56 or less, and the person is Mason, then it is recorded as a like. Anything else is recorded as a dislike."
      ]
    },
    {
      "cell_type": "code",
      "metadata": {
        "id": "QFGHAFSE4wj5",
        "colab": {
          "base_uri": "https://localhost:8080/",
          "height": 760
        },
        "outputId": "34df7c1a-3739-45d0-bb02-1a9e2317f6e0"
      },
      "source": [
        "def probability_baseline(person):\n",
        "  y_pred = []\n",
        "  if person == 'Mary':\n",
        "    thresh = .44\n",
        "  else:\n",
        "    thresh = .56\n",
        "  for i in range(60):\n",
        "    val = np.random.rand(1)[0]\n",
        "    if val <= thresh:\n",
        "      y_pred.append(1)\n",
        "    else:\n",
        "      y_pred.append(0)\n",
        "  return y_pred\n",
        "\n",
        "\n",
        "  \n",
        "mary_baseline = probability_baseline('Mary')\n",
        "mason_baseline = probability_baseline('Mason')\n",
        "\n",
        "\n",
        "def evaluate(ypred_mary, ytrue_mary, ypred_mason, ytrue_mason, show_plot):\n",
        "  print(f'\\n Mary: \\n\\t Precision: {precision_score(ypred_mary, ytrue_mary)} \\n\\t Recall: {recall_score(ypred_mary, ytrue_mary)} \\n\\t F-Score: {f1_score(ypred_mary, ytrue_mary)}  \\n\\n Mason: \\n\\t Precision: {precision_score(ypred_mason, ytrue_mason)} \\n\\t Recall: {recall_score(ypred_mason, ytrue_mason)} \\n\\t F-Score: {f1_score(ypred_mason, ytrue_mason)}\\n ')\n",
        "  mary_fpr, mary_tpr, mary_thresholds = roc_curve(ypred_mary, ytrue_mary)\n",
        "  mason_fpr, mason_tpr, mason_thresholds = roc_curve(ypred_mason, ytrue_mason)\n",
        "  mary_roc_auc = roc_auc_score(ypred_mary, ytrue_mary).round(2)\n",
        "  mason_roc_auc =  roc_auc_score(ypred_mason, ytrue_mason).round(2)\n",
        "  if show_plot == True:\n",
        "    mary_curve = RocCurveDisplay(fpr=mary_fpr, tpr=mary_tpr, roc_auc=mary_roc_auc, estimator_name='')\n",
        "    mary_curve.plot()\n",
        "    plt.title('Mary')\n",
        "    mason_curve = RocCurveDisplay(fpr=mason_fpr, tpr=mason_tpr, roc_auc=mason_roc_auc, estimator_name='')\n",
        "    mason_curve.plot()\n",
        "    plt.title('Mason')\n",
        "\n",
        "\n",
        "  else:\n",
        "    print(\"\\n Mary ROC AUC: \", mary_roc_auc, \"\\n Mason ROC AUC:\", mason_roc_auc)\n",
        "\n",
        "evaluate(mary_baseline, test_labels['Mary_Like'], mason_baseline, test_labels['Mason_Like'], True)"
      ],
      "execution_count": null,
      "outputs": [
        {
          "output_type": "stream",
          "name": "stdout",
          "text": [
            "\n",
            " Mary: \n",
            "\t Precision: 0.5806451612903226 \n",
            "\t Recall: 0.5625 \n",
            "\t F-Score: 0.5714285714285715  \n",
            "\n",
            " Mason: \n",
            "\t Precision: 0.5517241379310345 \n",
            "\t Recall: 0.5161290322580645 \n",
            "\t F-Score: 0.5333333333333333\n",
            " \n"
          ]
        },
        {
          "output_type": "display_data",
          "data": {
            "image/png": "[encoded data removed]",
            "text/plain": [
              "<Figure size 432x288 with 1 Axes>"
            ]
          },
          "metadata": {
            "needs_background": "light"
          }
        },
        {
          "output_type": "display_data",
          "data": {
            "image/png": "[encoded data removed]",
            "text/plain": [
              "<Figure size 432x288 with 1 Axes>"
            ]
          },
          "metadata": {
            "needs_background": "light"
          }
        }
      ]
    },
    {
      "cell_type": "markdown",
      "metadata": {
        "id": "I2TT2hC5JUjx"
      },
      "source": [
        "We created a function called evaluate to determine how well a model performs compared to the ground truth labels. It takes in the predicted labels and the ground truth labels for both Mason and Mary and a fifth argument on whether it should display a graph and then calculates precision, recall, and f-score using the methods in sci-kit. Then, it calculates an ROC-AUC score, and either displays a graph or prints out the ROC-AUC score. As shown above, our baseline is slightly better at predicting whether we like a song than a coin flip."
      ]
    },
    {
      "cell_type": "markdown",
      "metadata": {
        "id": "JfuuZbcdKLfD"
      },
      "source": [
        "We prepared the one hot encoded dataset for both the training set and the validation set first, and because we discovered later on that it preformed best, we also prepared the test set as well. We only needed to drop the genre column from the one hot encoded sets."
      ]
    },
    {
      "cell_type": "code",
      "metadata": {
        "colab": {
          "base_uri": "https://localhost:8080/",
          "height": 204
        },
        "id": "iEt4_-41jyKU",
        "outputId": "75407a99-117d-46b5-864c-521fd6f09a77"
      },
      "source": [
        "one_hot_genre_t = songtrain.drop(columns = 'genre') \n",
        "one_hot_genre_v = songval.drop(columns = 'genre') \n",
        "one_hot_genre_te = songtest.drop(columns = 'genre')\n",
        "one_hot_genre_t.head()"
      ],
      "execution_count": null,
      "outputs": [
        {
          "output_type": "execute_result",
          "data": {
            "text/html": [
              "<div>\n",
              "<style scoped>\n",
              "    .dataframe tbody tr th:only-of-type {\n",
              "        vertical-align: middle;\n",
              "    }\n",
              "\n",
              "    .dataframe tbody tr th {\n",
              "        vertical-align: top;\n",
              "    }\n",
              "\n",
              "    .dataframe thead th {\n",
              "        text-align: right;\n",
              "    }\n",
              "</style>\n",
              "<table border=\"1\" class=\"dataframe\">\n",
              "  <thead>\n",
              "    <tr style=\"text-align: right;\">\n",
              "      <th></th>\n",
              "      <th>year</th>\n",
              "      <th>bpm</th>\n",
              "      <th>nrgy</th>\n",
              "      <th>dnce</th>\n",
              "      <th>dB</th>\n",
              "      <th>live</th>\n",
              "      <th>val</th>\n",
              "      <th>dur</th>\n",
              "      <th>acous</th>\n",
              "      <th>spch</th>\n",
              "      <th>popularity</th>\n",
              "      <th>country</th>\n",
              "      <th>dance</th>\n",
              "      <th>hip hop</th>\n",
              "      <th>metal</th>\n",
              "      <th>pop</th>\n",
              "      <th>r&amp;b</th>\n",
              "      <th>rap</th>\n",
              "      <th>rock</th>\n",
              "      <th>soundtrack</th>\n",
              "    </tr>\n",
              "  </thead>\n",
              "  <tbody>\n",
              "    <tr>\n",
              "      <th>198</th>\n",
              "      <td>2015</td>\n",
              "      <td>102</td>\n",
              "      <td>98</td>\n",
              "      <td>34</td>\n",
              "      <td>-3</td>\n",
              "      <td>12</td>\n",
              "      <td>15</td>\n",
              "      <td>251</td>\n",
              "      <td>1</td>\n",
              "      <td>22</td>\n",
              "      <td>27</td>\n",
              "      <td>0</td>\n",
              "      <td>0</td>\n",
              "      <td>0</td>\n",
              "      <td>1</td>\n",
              "      <td>0</td>\n",
              "      <td>0</td>\n",
              "      <td>0</td>\n",
              "      <td>0</td>\n",
              "      <td>0</td>\n",
              "    </tr>\n",
              "    <tr>\n",
              "      <th>273</th>\n",
              "      <td>2018</td>\n",
              "      <td>89</td>\n",
              "      <td>68</td>\n",
              "      <td>56</td>\n",
              "      <td>-8</td>\n",
              "      <td>12</td>\n",
              "      <td>32</td>\n",
              "      <td>174</td>\n",
              "      <td>56</td>\n",
              "      <td>32</td>\n",
              "      <td>77</td>\n",
              "      <td>0</td>\n",
              "      <td>0</td>\n",
              "      <td>0</td>\n",
              "      <td>0</td>\n",
              "      <td>1</td>\n",
              "      <td>0</td>\n",
              "      <td>0</td>\n",
              "      <td>0</td>\n",
              "      <td>0</td>\n",
              "    </tr>\n",
              "    <tr>\n",
              "      <th>269</th>\n",
              "      <td>2018</td>\n",
              "      <td>140</td>\n",
              "      <td>56</td>\n",
              "      <td>75</td>\n",
              "      <td>-8</td>\n",
              "      <td>11</td>\n",
              "      <td>46</td>\n",
              "      <td>221</td>\n",
              "      <td>55</td>\n",
              "      <td>11</td>\n",
              "      <td>79</td>\n",
              "      <td>0</td>\n",
              "      <td>0</td>\n",
              "      <td>0</td>\n",
              "      <td>0</td>\n",
              "      <td>0</td>\n",
              "      <td>0</td>\n",
              "      <td>1</td>\n",
              "      <td>0</td>\n",
              "      <td>0</td>\n",
              "    </tr>\n",
              "    <tr>\n",
              "      <th>240</th>\n",
              "      <td>2018</td>\n",
              "      <td>77</td>\n",
              "      <td>45</td>\n",
              "      <td>75</td>\n",
              "      <td>-9</td>\n",
              "      <td>55</td>\n",
              "      <td>36</td>\n",
              "      <td>199</td>\n",
              "      <td>3</td>\n",
              "      <td>11</td>\n",
              "      <td>82</td>\n",
              "      <td>0</td>\n",
              "      <td>0</td>\n",
              "      <td>1</td>\n",
              "      <td>0</td>\n",
              "      <td>0</td>\n",
              "      <td>0</td>\n",
              "      <td>0</td>\n",
              "      <td>0</td>\n",
              "      <td>0</td>\n",
              "    </tr>\n",
              "    <tr>\n",
              "      <th>56</th>\n",
              "      <td>2003</td>\n",
              "      <td>180</td>\n",
              "      <td>95</td>\n",
              "      <td>43</td>\n",
              "      <td>-4</td>\n",
              "      <td>51</td>\n",
              "      <td>77</td>\n",
              "      <td>195</td>\n",
              "      <td>0</td>\n",
              "      <td>9</td>\n",
              "      <td>31</td>\n",
              "      <td>0</td>\n",
              "      <td>0</td>\n",
              "      <td>0</td>\n",
              "      <td>1</td>\n",
              "      <td>0</td>\n",
              "      <td>0</td>\n",
              "      <td>0</td>\n",
              "      <td>0</td>\n",
              "      <td>0</td>\n",
              "    </tr>\n",
              "  </tbody>\n",
              "</table>\n",
              "</div>"
            ],
            "text/plain": [
              "     year  bpm  nrgy  dnce  dB  live  ...  metal  pop  r&b  rap  rock  soundtrack\n",
              "198  2015  102    98    34  -3    12  ...      1    0    0    0     0           0\n",
              "273  2018   89    68    56  -8    12  ...      0    1    0    0     0           0\n",
              "269  2018  140    56    75  -8    11  ...      0    0    0    1     0           0\n",
              "240  2018   77    45    75  -9    55  ...      0    0    0    0     0           0\n",
              "56   2003  180    95    43  -4    51  ...      1    0    0    0     0           0\n",
              "\n",
              "[5 rows x 20 columns]"
            ]
          },
          "metadata": {},
          "execution_count": 9
        }
      ]
    },
    {
      "cell_type": "markdown",
      "metadata": {
        "id": "yIKVmotlPASC"
      },
      "source": [
        "To prepare the ordinally encoded data, we need to drop all columns that are genre-related except for genre itself."
      ]
    },
    {
      "cell_type": "code",
      "metadata": {
        "id": "-plFQZ2ZcE_D",
        "colab": {
          "base_uri": "https://localhost:8080/",
          "height": 204
        },
        "outputId": "ff6dbfec-846b-4621-86e0-d794b9f6be85"
      },
      "source": [
        "ordinal_genre_t = songtrain.drop(columns = ['dance', 'hip hop',\t'pop', 'r&b',\t'rap', 'rock', \"country\", \"metal\", \"soundtrack\"]) \n",
        "ordinal_genre_v = songval.drop(columns = ['dance', 'hip hop',\t'pop', 'r&b',\t'rap', 'rock', \"country\", \"metal\", \"soundtrack\"]) \n",
        "ordinal_genre_t.head()"
      ],
      "execution_count": null,
      "outputs": [
        {
          "output_type": "execute_result",
          "data": {
            "text/html": [
              "<div>\n",
              "<style scoped>\n",
              "    .dataframe tbody tr th:only-of-type {\n",
              "        vertical-align: middle;\n",
              "    }\n",
              "\n",
              "    .dataframe tbody tr th {\n",
              "        vertical-align: top;\n",
              "    }\n",
              "\n",
              "    .dataframe thead th {\n",
              "        text-align: right;\n",
              "    }\n",
              "</style>\n",
              "<table border=\"1\" class=\"dataframe\">\n",
              "  <thead>\n",
              "    <tr style=\"text-align: right;\">\n",
              "      <th></th>\n",
              "      <th>genre</th>\n",
              "      <th>year</th>\n",
              "      <th>bpm</th>\n",
              "      <th>nrgy</th>\n",
              "      <th>dnce</th>\n",
              "      <th>dB</th>\n",
              "      <th>live</th>\n",
              "      <th>val</th>\n",
              "      <th>dur</th>\n",
              "      <th>acous</th>\n",
              "      <th>spch</th>\n",
              "      <th>popularity</th>\n",
              "    </tr>\n",
              "  </thead>\n",
              "  <tbody>\n",
              "    <tr>\n",
              "      <th>198</th>\n",
              "      <td>3.0</td>\n",
              "      <td>2015</td>\n",
              "      <td>102</td>\n",
              "      <td>98</td>\n",
              "      <td>34</td>\n",
              "      <td>-3</td>\n",
              "      <td>12</td>\n",
              "      <td>15</td>\n",
              "      <td>251</td>\n",
              "      <td>1</td>\n",
              "      <td>22</td>\n",
              "      <td>27</td>\n",
              "    </tr>\n",
              "    <tr>\n",
              "      <th>273</th>\n",
              "      <td>4.0</td>\n",
              "      <td>2018</td>\n",
              "      <td>89</td>\n",
              "      <td>68</td>\n",
              "      <td>56</td>\n",
              "      <td>-8</td>\n",
              "      <td>12</td>\n",
              "      <td>32</td>\n",
              "      <td>174</td>\n",
              "      <td>56</td>\n",
              "      <td>32</td>\n",
              "      <td>77</td>\n",
              "    </tr>\n",
              "    <tr>\n",
              "      <th>269</th>\n",
              "      <td>6.0</td>\n",
              "      <td>2018</td>\n",
              "      <td>140</td>\n",
              "      <td>56</td>\n",
              "      <td>75</td>\n",
              "      <td>-8</td>\n",
              "      <td>11</td>\n",
              "      <td>46</td>\n",
              "      <td>221</td>\n",
              "      <td>55</td>\n",
              "      <td>11</td>\n",
              "      <td>79</td>\n",
              "    </tr>\n",
              "    <tr>\n",
              "      <th>240</th>\n",
              "      <td>2.0</td>\n",
              "      <td>2018</td>\n",
              "      <td>77</td>\n",
              "      <td>45</td>\n",
              "      <td>75</td>\n",
              "      <td>-9</td>\n",
              "      <td>55</td>\n",
              "      <td>36</td>\n",
              "      <td>199</td>\n",
              "      <td>3</td>\n",
              "      <td>11</td>\n",
              "      <td>82</td>\n",
              "    </tr>\n",
              "    <tr>\n",
              "      <th>56</th>\n",
              "      <td>3.0</td>\n",
              "      <td>2003</td>\n",
              "      <td>180</td>\n",
              "      <td>95</td>\n",
              "      <td>43</td>\n",
              "      <td>-4</td>\n",
              "      <td>51</td>\n",
              "      <td>77</td>\n",
              "      <td>195</td>\n",
              "      <td>0</td>\n",
              "      <td>9</td>\n",
              "      <td>31</td>\n",
              "    </tr>\n",
              "  </tbody>\n",
              "</table>\n",
              "</div>"
            ],
            "text/plain": [
              "     genre  year  bpm  nrgy  dnce  dB  live  val  dur  acous  spch  popularity\n",
              "198    3.0  2015  102    98    34  -3    12   15  251      1    22          27\n",
              "273    4.0  2018   89    68    56  -8    12   32  174     56    32          77\n",
              "269    6.0  2018  140    56    75  -8    11   46  221     55    11          79\n",
              "240    2.0  2018   77    45    75  -9    55   36  199      3    11          82\n",
              "56     3.0  2003  180    95    43  -4    51   77  195      0     9          31"
            ]
          },
          "metadata": {},
          "execution_count": 20
        }
      ]
    },
    {
      "cell_type": "markdown",
      "metadata": {
        "id": "FT-zVkDFVcM0"
      },
      "source": [
        "##Random Forest Model"
      ]
    },
    {
      "cell_type": "markdown",
      "metadata": {
        "id": "4hNNiYusPjwB"
      },
      "source": [
        "We started by training a random forest classifier on our dataset, as that was a recommendation made to us. To test this classifer, we need to train 4 different models - one for one hot encoded genres and one for ordinally encoded genres,  one set for Mary as well as one set for Mason. We decided to predict both training and validation labels for each model so that we could have an immediate comparison value in the ROC-AUC value for the validation set. "
      ]
    },
    {
      "cell_type": "code",
      "metadata": {
        "id": "zLsKqGehD42I"
      },
      "source": [
        "one_hot_mary_forest = RandomForestClassifier(n_estimators=350).fit(one_hot_genre_t, train_labels['Mary_Like'])\n",
        "ypred_train_hot_mary = one_hot_mary_forest.predict(one_hot_genre_t)\n",
        "ypred_val_hot_mary = one_hot_mary_forest.predict(one_hot_genre_v)\n",
        "\n",
        "one_hot_mason_forest = RandomForestClassifier(n_estimators=350).fit(one_hot_genre_t, train_labels['Mason_Like'])\n",
        "ypred_train_hot_mason = one_hot_mason_forest.predict(one_hot_genre_t)\n",
        "ypred_val_hot_mason = one_hot_mason_forest.predict(one_hot_genre_v)\n",
        "\n",
        "\n",
        "ordinal_mary_forest = RandomForestClassifier(n_estimators=350).fit(ordinal_genre_t,  train_labels['Mary_Like'])\n",
        "ypred_train_ordinal_mary = ordinal_mary_forest.predict(ordinal_genre_t)\n",
        "ypred_val_ordinal_mary= ordinal_mary_forest.predict(ordinal_genre_v)\n",
        "\n",
        "ordinal_mason_forest = RandomForestClassifier(n_estimators=350).fit(ordinal_genre_t,  train_labels['Mason_Like'])\n",
        "ypred_train_ordinal_mason= ordinal_mason_forest.predict(ordinal_genre_t)\n",
        "ypred_val_ordinal_mason = ordinal_mason_forest.predict(ordinal_genre_v)"
      ],
      "execution_count": null,
      "outputs": []
    },
    {
      "cell_type": "code",
      "metadata": {
        "colab": {
          "base_uri": "https://localhost:8080/"
        },
        "id": "aQt7CyqVEWnf",
        "outputId": "f2591594-c01c-4d40-c746-1ffbeebeaaa8"
      },
      "source": [
        "print(\"ONE HOT FOREST TRAIN\")\n",
        "evaluate(ypred_train_hot_mary,train_labels['Mary_Like'], ypred_train_hot_mason, train_labels['Mason_Like'], False)\n",
        "print(\"ONE HOT FOREST VAL\")\n",
        "evaluate(ypred_val_hot_mary,val_labels['Mary_Like'], ypred_val_hot_mason, val_labels['Mason_Like'], False)\n",
        "print('\\n\\n')\n",
        "\n",
        "print(\"ORDINAL FOREST TRAIN\")\n",
        "evaluate(ypred_train_ordinal_mary,train_labels['Mary_Like'], ypred_train_ordinal_mason, train_labels['Mason_Like'], False)\n",
        "print(\"ORDINAL FOREST VAL\")\n",
        "evaluate(ypred_val_ordinal_mary,val_labels['Mary_Like'], ypred_val_ordinal_mason, val_labels['Mason_Like'], False)"
      ],
      "execution_count": null,
      "outputs": [
        {
          "output_type": "stream",
          "name": "stdout",
          "text": [
            "ONE HOT FOREST TRAIN\n",
            "\n",
            " Mary: \n",
            "\t Precision: 1.0 \n",
            "\t Recall: 1.0 \n",
            "\t F-Score: 1.0  \n",
            "\n",
            " Mason: \n",
            "\t Precision: 1.0 \n",
            "\t Recall: 1.0 \n",
            "\t F-Score: 1.0\n",
            " \n",
            "\n",
            " Mary ROC AUC:  1.0 \n",
            " Mason ROC AUC: 1.0\n",
            "ONE HOT FOREST VAL\n",
            "\n",
            " Mary: \n",
            "\t Precision: 0.5833333333333334 \n",
            "\t Recall: 1.0 \n",
            "\t F-Score: 0.7368421052631579  \n",
            "\n",
            " Mason: \n",
            "\t Precision: 1.0 \n",
            "\t Recall: 0.7837837837837838 \n",
            "\t F-Score: 0.8787878787878788\n",
            " \n",
            "\n",
            " Mary ROC AUC:  0.81 \n",
            " Mason ROC AUC: 0.89\n",
            "\n",
            "\n",
            "\n",
            "ORDINAL FOREST TRAIN\n",
            "\n",
            " Mary: \n",
            "\t Precision: 1.0 \n",
            "\t Recall: 1.0 \n",
            "\t F-Score: 1.0  \n",
            "\n",
            " Mason: \n",
            "\t Precision: 1.0 \n",
            "\t Recall: 1.0 \n",
            "\t F-Score: 1.0\n",
            " \n",
            "\n",
            " Mary ROC AUC:  1.0 \n",
            " Mason ROC AUC: 1.0\n",
            "ORDINAL FOREST VAL\n",
            "\n",
            " Mary: \n",
            "\t Precision: 0.5833333333333334 \n",
            "\t Recall: 1.0 \n",
            "\t F-Score: 0.7368421052631579  \n",
            "\n",
            " Mason: \n",
            "\t Precision: 0.9310344827586207 \n",
            "\t Recall: 0.75 \n",
            "\t F-Score: 0.8307692307692308\n",
            " \n",
            "\n",
            " Mary ROC AUC:  0.81 \n",
            " Mason ROC AUC: 0.83\n"
          ]
        }
      ]
    },
    {
      "cell_type": "markdown",
      "metadata": {
        "id": "ByHFkKcxQzvT"
      },
      "source": [
        "Above is the report of all the statistics we calculated. For the sake of saving space, we did not print out a graph. We found this model performed best when n_estimators is set to 350. However, we see significant overfitting in the model, as the statistics for the test set are all reported as 1. This concerns us despite the ROC-AUC values, so we chose to test other models to see if we could find a better model that does not suffer from overfitting."
      ]
    },
    {
      "cell_type": "markdown",
      "metadata": {
        "id": "QuEYwlIHVfTH"
      },
      "source": [
        "##Logistic Regression Model"
      ]
    },
    {
      "cell_type": "markdown",
      "metadata": {
        "id": "-FbdlWupRydl"
      },
      "source": [
        "Another model we tested was a logistic regression model provided by sci-kit. Similarly to the random forest classifier, we need 4 different models. After some tweaking, we found it performed best when allowed 2000 maximum iterations, and setting the class weight to balanced. "
      ]
    },
    {
      "cell_type": "code",
      "metadata": {
        "id": "2IzA-qAClONz"
      },
      "source": [
        "one_hot_mary_logreg = LogisticRegression(max_iter = 2000, class_weight = \"balanced\").fit(one_hot_genre_t, train_labels['Mary_Like'])\n",
        "ypred_train_hot_mary = one_hot_mary_logreg.predict(one_hot_genre_t)\n",
        "ypred_val_hot_mary = one_hot_mary_logreg.predict(one_hot_genre_v)\n",
        "\n",
        "one_hot_mason_logreg = LogisticRegression(max_iter = 2000, class_weight = \"balanced\").fit(one_hot_genre_t, train_labels['Mason_Like'])\n",
        "ypred_train_hot_mason = one_hot_mason_logreg.predict(one_hot_genre_t)\n",
        "ypred_val_hot_mason = one_hot_mason_logreg.predict(one_hot_genre_v)\n",
        "\n",
        "\n",
        "ordinal_mary_logreg = LogisticRegression(max_iter = 2000, class_weight = \"balanced\").fit(ordinal_genre_t,  train_labels['Mary_Like'])\n",
        "ypred_train_ordinal_mary = ordinal_mary_logreg.predict(ordinal_genre_t)\n",
        "ypred_val_ordinal_mary= ordinal_mary_logreg.predict(ordinal_genre_v)\n",
        "\n",
        "ordinal_mason_logreg = LogisticRegression(max_iter = 2000, class_weight = \"balanced\").fit(ordinal_genre_t,  train_labels['Mason_Like'])\n",
        "ypred_train_ordinal_mason= ordinal_mason_logreg.predict(ordinal_genre_t)\n",
        "ypred_val_ordinal_mason = ordinal_mason_logreg.predict(ordinal_genre_v)\n"
      ],
      "execution_count": null,
      "outputs": []
    },
    {
      "cell_type": "code",
      "metadata": {
        "colab": {
          "base_uri": "https://localhost:8080/"
        },
        "id": "q16BJTdSrQz6",
        "outputId": "77af531b-c73d-4721-d4c3-631d19c706d9"
      },
      "source": [
        "print(\"ONE HOT LOGREG TRAIN\")\n",
        "evaluate(ypred_train_hot_mary,train_labels['Mary_Like'], ypred_train_hot_mason, train_labels['Mason_Like'], False)\n",
        "print(\"ONE HOT LOGREG VAL\")\n",
        "evaluate(ypred_val_hot_mary,val_labels['Mary_Like'], ypred_val_hot_mason, val_labels['Mason_Like'], False)\n",
        "print('\\n\\n')\n",
        "\n",
        "print(\"ORDINAL LOGREG TRAIN\")\n",
        "evaluate(ypred_train_ordinal_mary,train_labels['Mary_Like'], ypred_train_ordinal_mason, train_labels['Mason_Like'], False)\n",
        "print(\"ORDINAL LOGREG VAL\")\n",
        "evaluate(ypred_val_ordinal_mary,val_labels['Mary_Like'], ypred_val_ordinal_mason, val_labels['Mason_Like'], False)"
      ],
      "execution_count": null,
      "outputs": [
        {
          "output_type": "stream",
          "name": "stdout",
          "text": [
            "ONE HOT LOGREG TRAIN\n",
            "\n",
            " Mary: \n",
            "\t Precision: 0.7076923076923077 \n",
            "\t Recall: 0.6865671641791045 \n",
            "\t F-Score: 0.696969696969697  \n",
            "\n",
            " Mason: \n",
            "\t Precision: 0.794392523364486 \n",
            "\t Recall: 0.8252427184466019 \n",
            "\t F-Score: 0.8095238095238095\n",
            " \n",
            "\n",
            " Mary ROC AUC:  0.76 \n",
            " Mason ROC AUC: 0.77\n",
            "ONE HOT LOGREG VAL\n",
            "\n",
            " Mary: \n",
            "\t Precision: 0.6111111111111112 \n",
            "\t Recall: 0.8461538461538461 \n",
            "\t F-Score: 0.7096774193548387  \n",
            "\n",
            " Mason: \n",
            "\t Precision: 0.8275862068965517 \n",
            "\t Recall: 0.75 \n",
            "\t F-Score: 0.7868852459016394\n",
            " \n",
            "\n",
            " Mary ROC AUC:  0.72 \n",
            " Mason ROC AUC: 0.79\n",
            "\n",
            "\n",
            "\n",
            "ORDINAL LOGREG TRAIN\n",
            "\n",
            " Mary: \n",
            "\t Precision: 0.7076923076923077 \n",
            "\t Recall: 0.6571428571428571 \n",
            "\t F-Score: 0.6814814814814816  \n",
            "\n",
            " Mason: \n",
            "\t Precision: 0.7757009345794392 \n",
            "\t Recall: 0.7904761904761904 \n",
            "\t F-Score: 0.7830188679245284\n",
            " \n",
            "\n",
            " Mary ROC AUC:  0.74 \n",
            " Mason ROC AUC: 0.74\n",
            "ORDINAL LOGREG VAL\n",
            "\n",
            " Mary: \n",
            "\t Precision: 0.6944444444444444 \n",
            "\t Recall: 0.8620689655172413 \n",
            "\t F-Score: 0.7692307692307692  \n",
            "\n",
            " Mason: \n",
            "\t Precision: 0.7931034482758621 \n",
            "\t Recall: 0.7666666666666667 \n",
            "\t F-Score: 0.7796610169491527\n",
            " \n",
            "\n",
            " Mary ROC AUC:  0.75 \n",
            " Mason ROC AUC: 0.78\n"
          ]
        }
      ]
    },
    {
      "cell_type": "markdown",
      "metadata": {
        "id": "MwUS4CqzSLku"
      },
      "source": [
        "Once again, we decided to not print graphs to save on space. We found that the logistic regression model did not outperform the random forest classifier. "
      ]
    },
    {
      "cell_type": "markdown",
      "metadata": {
        "id": "NSn5NziuViUs"
      },
      "source": [
        "##KNeighbors Model"
      ]
    },
    {
      "cell_type": "markdown",
      "metadata": {
        "id": "ud1V9vJ4Sdh8"
      },
      "source": [
        "The final model we decided to test out was a K neighbors classifier. Tweaking this model did not seem to change the results, so we did not change any parameters."
      ]
    },
    {
      "cell_type": "code",
      "metadata": {
        "id": "Tgh7522AE_Fe"
      },
      "source": [
        "one_hot_mary_kn = KNeighborsClassifier().fit(one_hot_genre_t, train_labels['Mary_Like'])\n",
        "ypred_train_hot_mary = one_hot_mary_kn.predict(one_hot_genre_t)\n",
        "ypred_val_hot_mary = one_hot_mary_kn.predict(one_hot_genre_v)\n",
        "\n",
        "one_hot_mason_kn = KNeighborsClassifier().fit(one_hot_genre_t, train_labels['Mason_Like'])\n",
        "ypred_train_hot_mason = one_hot_mason_kn.predict(one_hot_genre_t)\n",
        "ypred_val_hot_mason = one_hot_mason_kn.predict(one_hot_genre_v)\n",
        "\n",
        "\n",
        "ordinal_mary_kn = KNeighborsClassifier().fit(ordinal_genre_t,  train_labels['Mary_Like'])\n",
        "ypred_train_ordinal_mary = ordinal_mary_kn.predict(ordinal_genre_t)\n",
        "ypred_val_ordinal_mary= ordinal_mary_kn.predict(ordinal_genre_v)\n",
        "\n",
        "ordinal_mason_kn = KNeighborsClassifier().fit(ordinal_genre_t,  train_labels['Mason_Like'])\n",
        "ypred_train_ordinal_mason= ordinal_mason_kn.predict(ordinal_genre_t)\n",
        "ypred_val_ordinal_mason = ordinal_mason_kn.predict(ordinal_genre_v)"
      ],
      "execution_count": null,
      "outputs": []
    },
    {
      "cell_type": "code",
      "metadata": {
        "colab": {
          "base_uri": "https://localhost:8080/"
        },
        "id": "6-le8jWaFTdi",
        "outputId": "498eb733-74c5-463d-a9f5-aa2bf60bf389"
      },
      "source": [
        "print(\"ONE HOT NEIGHBORS TRAIN\")\n",
        "evaluate(ypred_train_hot_mary,train_labels['Mary_Like'], ypred_train_hot_mason, train_labels['Mason_Like'], False)\n",
        "print(\"ONE HOT NEIGHBORS VAL\")\n",
        "evaluate(ypred_val_hot_mary,val_labels['Mary_Like'], ypred_val_hot_mason, val_labels['Mason_Like'], False)\n",
        "print('\\n\\n')\n",
        "\n",
        "print(\"ORDINAL NEIGHBORS TRAIN\")\n",
        "evaluate(ypred_train_ordinal_mary,train_labels['Mary_Like'], ypred_train_ordinal_mason, train_labels['Mason_Like'], False)\n",
        "print(\"ORDINAL NEIGHBORS VAL\")\n",
        "evaluate(ypred_val_ordinal_mary,val_labels['Mary_Like'], ypred_val_ordinal_mason, val_labels['Mason_Like'], False)"
      ],
      "execution_count": null,
      "outputs": [
        {
          "output_type": "stream",
          "name": "stdout",
          "text": [
            "ONE HOT NEIGHBORS TRAIN\n",
            "\n",
            " Mary: \n",
            "\t Precision: 0.6615384615384615 \n",
            "\t Recall: 0.7962962962962963 \n",
            "\t F-Score: 0.7226890756302522  \n",
            "\n",
            " Mason: \n",
            "\t Precision: 0.8504672897196262 \n",
            "\t Recall: 0.7777777777777778 \n",
            "\t F-Score: 0.8125000000000001\n",
            " \n",
            "\n",
            " Mary ROC AUC:  0.81 \n",
            " Mason ROC AUC: 0.76\n",
            "ONE HOT NEIGHBORS VAL\n",
            "\n",
            " Mary: \n",
            "\t Precision: 0.5833333333333334 \n",
            "\t Recall: 0.84 \n",
            "\t F-Score: 0.6885245901639344  \n",
            "\n",
            " Mason: \n",
            "\t Precision: 0.8620689655172413 \n",
            "\t Recall: 0.6756756756756757 \n",
            "\t F-Score: 0.7575757575757576\n",
            " \n",
            "\n",
            " Mary ROC AUC:  0.71 \n",
            " Mason ROC AUC: 0.75\n",
            "\n",
            "\n",
            "\n",
            "ORDINAL NEIGHBORS TRAIN\n",
            "\n",
            " Mary: \n",
            "\t Precision: 0.6615384615384615 \n",
            "\t Recall: 0.7962962962962963 \n",
            "\t F-Score: 0.7226890756302522  \n",
            "\n",
            " Mason: \n",
            "\t Precision: 0.8411214953271028 \n",
            "\t Recall: 0.7758620689655172 \n",
            "\t F-Score: 0.8071748878923767\n",
            " \n",
            "\n",
            " Mary ROC AUC:  0.81 \n",
            " Mason ROC AUC: 0.76\n",
            "ORDINAL NEIGHBORS VAL\n",
            "\n",
            " Mary: \n",
            "\t Precision: 0.5833333333333334 \n",
            "\t Recall: 0.84 \n",
            "\t F-Score: 0.6885245901639344  \n",
            "\n",
            " Mason: \n",
            "\t Precision: 0.8620689655172413 \n",
            "\t Recall: 0.6756756756756757 \n",
            "\t F-Score: 0.7575757575757576\n",
            " \n",
            "\n",
            " Mary ROC AUC:  0.71 \n",
            " Mason ROC AUC: 0.75\n"
          ]
        }
      ]
    },
    {
      "cell_type": "markdown",
      "metadata": {
        "id": "LXX4_6CxSuFI"
      },
      "source": [
        "This model did not outperform the random forest classifier."
      ]
    },
    {
      "cell_type": "markdown",
      "metadata": {
        "id": "Q1ItbuhCLOXC"
      },
      "source": [
        "#Refined Model"
      ]
    },
    {
      "cell_type": "markdown",
      "metadata": {
        "id": "weKnkUiyTmjD"
      },
      "source": [
        "We decided that we would use the random forest classifier despite it overfitting to the training data due to it outperforming the other models we tried. Below, we predict labels for the test data and evaluate those labels against the test ground truth labels."
      ]
    },
    {
      "cell_type": "code",
      "metadata": {
        "colab": {
          "base_uri": "https://localhost:8080/",
          "height": 782
        },
        "id": "4U-U_powoWXr",
        "outputId": "30e0b3f4-08b7-413d-a242-91710f0fe7e1"
      },
      "source": [
        "ypred_test_hot_mary = one_hot_mary_forest.predict(one_hot_genre_te)\n",
        "ypred_test_hot_mason = one_hot_mason_forest.predict(one_hot_genre_te)\n",
        "print(\"ONE HOT Random Forest TEST\")\n",
        "evaluate(ypred_test_hot_mary,test_labels['Mary_Like'], ypred_test_hot_mason, test_labels['Mason_Like'], True)"
      ],
      "execution_count": null,
      "outputs": [
        {
          "output_type": "stream",
          "name": "stdout",
          "text": [
            "ONE HOT Random Forest TEST\n",
            "\n",
            " Mary: \n",
            "\t Precision: 0.6451612903225806 \n",
            "\t Recall: 1.0 \n",
            "\t F-Score: 0.7843137254901961  \n",
            "\n",
            " Mason: \n",
            "\t Precision: 0.8620689655172413 \n",
            "\t Recall: 0.78125 \n",
            "\t F-Score: 0.8196721311475409\n",
            " \n"
          ]
        },
        {
          "output_type": "display_data",
          "data": {
            "image/png": "[encoded data removed]",
            "text/plain": [
              "<Figure size 432x288 with 1 Axes>"
            ]
          },
          "metadata": {
            "needs_background": "light"
          }
        },
        {
          "output_type": "display_data",
          "data": {
            "image/png": "[encoded data removed]",
            "text/plain": [
              "<Figure size 432x288 with 1 Axes>"
            ]
          },
          "metadata": {
            "needs_background": "light"
          }
        }
      ]
    },
    {
      "cell_type": "markdown",
      "metadata": {
        "id": "x_ZBy0-6WMGa"
      },
      "source": [
        "From the results above, we can determine that the model correctly predicts the label for Mary 86% of the time, and correctly predicts the label for Mason 82% of the time. We believe that these results are satisfactory, as the model outperforms other models investigated, and significantly outperforms our baseline."
      ]
    }
  ]
}