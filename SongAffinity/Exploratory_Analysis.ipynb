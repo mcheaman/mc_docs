{
  "nbformat": 4,
  "nbformat_minor": 0,
  "metadata": {
    "colab": {
      "name": "DATA311FP_Analysis.ipynb",
      "provenance": [],
      "collapsed_sections": []
    },
    "kernelspec": {
      "name": "python3",
      "display_name": "Python 3"
    },
    "language_info": {
      "name": "python"
    }
  },
  "cells": [
    {
      "cell_type": "code",
      "metadata": {
        "id": "IDk7vrJBaHNC"
      },
      "source": [
        "from google.colab import files\n",
        "import pandas as pd\n",
        "import numpy as np\n",
        "import matplotlib.pyplot as plt\n",
        "import seaborn as sns\n",
        "import time\n",
        "from sklearn.metrics import recall_score\n",
        "from sklearn.metrics import precision_score\n",
        "from sklearn.metrics import f1_score\n",
        "from sklearn.metrics import roc_auc_score\n",
        "from sklearn.metrics import roc_curve\n",
        "from sklearn.metrics import RocCurveDisplay\n",
        "from sklearn import preprocessing\n",
        "from sklearn import svm\n",
        "from sklearn.linear_model import LogisticRegression\n",
        "from sklearn.ensemble import RandomForestClassifier\n",
        "from sklearn.neighbors import KNeighborsClassifier"
      ],
      "execution_count": null,
      "outputs": []
    },
    {
      "cell_type": "code",
      "metadata": {
        "colab": {
          "resources": {
            "http://localhost:8080/nbextensions/google.colab/files.js": {
              "data": "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",
              "ok": true,
              "headers": [
                [
                  "content-type",
                  "application/javascript"
                ]
              ],
              "status": 200,
              "status_text": ""
            }
          },
          "base_uri": "https://localhost:8080/",
          "height": 74
        },
        "id": "Rn_P8PzcaPlX",
        "outputId": "f5a250b7-4322-40ba-a41c-7c0a0e61bd3a"
      },
      "source": [
        "data_import = files.upload()"
      ],
      "execution_count": null,
      "outputs": [
        {
          "output_type": "display_data",
          "data": {
            "text/html": [
              "\n",
              "     <input type=\"file\" id=\"files-ecbbf7bd-5859-4969-8687-aa74bfe18b5f\" name=\"files[]\" multiple disabled\n",
              "        style=\"border:none\" />\n",
              "     <output id=\"result-ecbbf7bd-5859-4969-8687-aa74bfe18b5f\">\n",
              "      Upload widget is only available when the cell has been executed in the\n",
              "      current browser session. Please rerun this cell to enable.\n",
              "      </output>\n",
              "      <script src=\"/nbextensions/google.colab/files.js\"></script> "
            ],
            "text/plain": [
              "<IPython.core.display.HTML object>"
            ]
          },
          "metadata": {}
        },
        {
          "output_type": "stream",
          "name": "stdout",
          "text": [
            "Saving final_song_set.csv to final_song_set.csv\n"
          ]
        }
      ]
    },
    {
      "cell_type": "code",
      "metadata": {
        "id": "1GaMhYkTXvCc",
        "colab": {
          "base_uri": "https://localhost:8080/",
          "height": 600
        },
        "outputId": "b183e84e-e23f-42b1-d469-609ed230da89"
      },
      "source": [
        "raw_songs = pd.read_csv('final_song_set.csv').drop(columns= 'Unnamed: 0').rename(columns={\"top genre\": \"genre\", \"pop\": \"popularity\"})\n",
        "raw_songs"
      ],
      "execution_count": null,
      "outputs": [
        {
          "output_type": "execute_result",
          "data": {
            "text/html": [
              "<div>\n",
              "<style scoped>\n",
              "    .dataframe tbody tr th:only-of-type {\n",
              "        vertical-align: middle;\n",
              "    }\n",
              "\n",
              "    .dataframe tbody tr th {\n",
              "        vertical-align: top;\n",
              "    }\n",
              "\n",
              "    .dataframe thead th {\n",
              "        text-align: right;\n",
              "    }\n",
              "</style>\n",
              "<table border=\"1\" class=\"dataframe\">\n",
              "  <thead>\n",
              "    <tr style=\"text-align: right;\">\n",
              "      <th></th>\n",
              "      <th>Mason_Like</th>\n",
              "      <th>Mary_Like</th>\n",
              "      <th>title</th>\n",
              "      <th>artist</th>\n",
              "      <th>genre</th>\n",
              "      <th>year</th>\n",
              "      <th>added</th>\n",
              "      <th>bpm</th>\n",
              "      <th>nrgy</th>\n",
              "      <th>dnce</th>\n",
              "      <th>dB</th>\n",
              "      <th>live</th>\n",
              "      <th>val</th>\n",
              "      <th>dur</th>\n",
              "      <th>acous</th>\n",
              "      <th>spch</th>\n",
              "      <th>popularity</th>\n",
              "    </tr>\n",
              "  </thead>\n",
              "  <tbody>\n",
              "    <tr>\n",
              "      <th>0</th>\n",
              "      <td>0</td>\n",
              "      <td>1</td>\n",
              "      <td>Snake Eyes</td>\n",
              "      <td>Feint</td>\n",
              "      <td>dance</td>\n",
              "      <td>2012</td>\n",
              "      <td>1969‑12‑31</td>\n",
              "      <td>174</td>\n",
              "      <td>82</td>\n",
              "      <td>50</td>\n",
              "      <td>-6</td>\n",
              "      <td>26</td>\n",
              "      <td>18</td>\n",
              "      <td>265</td>\n",
              "      <td>0</td>\n",
              "      <td>7</td>\n",
              "      <td>60</td>\n",
              "    </tr>\n",
              "    <tr>\n",
              "      <th>1</th>\n",
              "      <td>0</td>\n",
              "      <td>1</td>\n",
              "      <td>Blame</td>\n",
              "      <td>Egypt Central</td>\n",
              "      <td>alternative metal</td>\n",
              "      <td>2011</td>\n",
              "      <td>1969‑12‑31</td>\n",
              "      <td>168</td>\n",
              "      <td>92</td>\n",
              "      <td>40</td>\n",
              "      <td>-5</td>\n",
              "      <td>5</td>\n",
              "      <td>42</td>\n",
              "      <td>199</td>\n",
              "      <td>0</td>\n",
              "      <td>17</td>\n",
              "      <td>25</td>\n",
              "    </tr>\n",
              "    <tr>\n",
              "      <th>2</th>\n",
              "      <td>0</td>\n",
              "      <td>1</td>\n",
              "      <td>rap music</td>\n",
              "      <td>Lil Darkie</td>\n",
              "      <td>rap</td>\n",
              "      <td>2020</td>\n",
              "      <td>1969‑12‑31</td>\n",
              "      <td>127</td>\n",
              "      <td>96</td>\n",
              "      <td>58</td>\n",
              "      <td>1</td>\n",
              "      <td>7</td>\n",
              "      <td>72</td>\n",
              "      <td>197</td>\n",
              "      <td>29</td>\n",
              "      <td>36</td>\n",
              "      <td>67</td>\n",
              "    </tr>\n",
              "    <tr>\n",
              "      <th>3</th>\n",
              "      <td>0</td>\n",
              "      <td>1</td>\n",
              "      <td>spy?</td>\n",
              "      <td>WHOKILLEDXIX</td>\n",
              "      <td>pop</td>\n",
              "      <td>2020</td>\n",
              "      <td>1969‑12‑31</td>\n",
              "      <td>100</td>\n",
              "      <td>56</td>\n",
              "      <td>87</td>\n",
              "      <td>-5</td>\n",
              "      <td>10</td>\n",
              "      <td>65</td>\n",
              "      <td>154</td>\n",
              "      <td>6</td>\n",
              "      <td>6</td>\n",
              "      <td>75</td>\n",
              "    </tr>\n",
              "    <tr>\n",
              "      <th>4</th>\n",
              "      <td>0</td>\n",
              "      <td>1</td>\n",
              "      <td>North Memphis</td>\n",
              "      <td>Pharmacist</td>\n",
              "      <td>aesthetic rap</td>\n",
              "      <td>2019</td>\n",
              "      <td>1969‑12‑31</td>\n",
              "      <td>167</td>\n",
              "      <td>94</td>\n",
              "      <td>72</td>\n",
              "      <td>-6</td>\n",
              "      <td>7</td>\n",
              "      <td>90</td>\n",
              "      <td>136</td>\n",
              "      <td>0</td>\n",
              "      <td>6</td>\n",
              "      <td>75</td>\n",
              "    </tr>\n",
              "    <tr>\n",
              "      <th>...</th>\n",
              "      <td>...</td>\n",
              "      <td>...</td>\n",
              "      <td>...</td>\n",
              "      <td>...</td>\n",
              "      <td>...</td>\n",
              "      <td>...</td>\n",
              "      <td>...</td>\n",
              "      <td>...</td>\n",
              "      <td>...</td>\n",
              "      <td>...</td>\n",
              "      <td>...</td>\n",
              "      <td>...</td>\n",
              "      <td>...</td>\n",
              "      <td>...</td>\n",
              "      <td>...</td>\n",
              "      <td>...</td>\n",
              "      <td>...</td>\n",
              "    </tr>\n",
              "    <tr>\n",
              "      <th>295</th>\n",
              "      <td>0</td>\n",
              "      <td>1</td>\n",
              "      <td>Doubt Me</td>\n",
              "      <td>Ness The Kid</td>\n",
              "      <td>rap</td>\n",
              "      <td>2021</td>\n",
              "      <td>2021‑11‑04</td>\n",
              "      <td>91</td>\n",
              "      <td>65</td>\n",
              "      <td>77</td>\n",
              "      <td>-6</td>\n",
              "      <td>11</td>\n",
              "      <td>49</td>\n",
              "      <td>127</td>\n",
              "      <td>0</td>\n",
              "      <td>8</td>\n",
              "      <td>52</td>\n",
              "    </tr>\n",
              "    <tr>\n",
              "      <th>296</th>\n",
              "      <td>1</td>\n",
              "      <td>0</td>\n",
              "      <td>24/7</td>\n",
              "      <td>Liam Tracy</td>\n",
              "      <td>deep underground hip hop</td>\n",
              "      <td>2021</td>\n",
              "      <td>2021‑11‑08</td>\n",
              "      <td>128</td>\n",
              "      <td>67</td>\n",
              "      <td>52</td>\n",
              "      <td>-7</td>\n",
              "      <td>11</td>\n",
              "      <td>41</td>\n",
              "      <td>169</td>\n",
              "      <td>55</td>\n",
              "      <td>24</td>\n",
              "      <td>50</td>\n",
              "    </tr>\n",
              "    <tr>\n",
              "      <th>297</th>\n",
              "      <td>0</td>\n",
              "      <td>0</td>\n",
              "      <td>If It Was Easy</td>\n",
              "      <td>PTM</td>\n",
              "      <td>rap</td>\n",
              "      <td>2021</td>\n",
              "      <td>2021‑10‑22</td>\n",
              "      <td>120</td>\n",
              "      <td>64</td>\n",
              "      <td>84</td>\n",
              "      <td>-7</td>\n",
              "      <td>11</td>\n",
              "      <td>59</td>\n",
              "      <td>179</td>\n",
              "      <td>44</td>\n",
              "      <td>5</td>\n",
              "      <td>49</td>\n",
              "    </tr>\n",
              "    <tr>\n",
              "      <th>298</th>\n",
              "      <td>0</td>\n",
              "      <td>0</td>\n",
              "      <td>Top for a Pancake</td>\n",
              "      <td>3NIGMA</td>\n",
              "      <td>rap</td>\n",
              "      <td>2019</td>\n",
              "      <td>2021‑10‑05</td>\n",
              "      <td>150</td>\n",
              "      <td>54</td>\n",
              "      <td>90</td>\n",
              "      <td>-9</td>\n",
              "      <td>11</td>\n",
              "      <td>14</td>\n",
              "      <td>131</td>\n",
              "      <td>1</td>\n",
              "      <td>33</td>\n",
              "      <td>43</td>\n",
              "    </tr>\n",
              "    <tr>\n",
              "      <th>299</th>\n",
              "      <td>0</td>\n",
              "      <td>0</td>\n",
              "      <td>333!</td>\n",
              "      <td>King Jesse</td>\n",
              "      <td>rap</td>\n",
              "      <td>2021</td>\n",
              "      <td>2021‑11‑10</td>\n",
              "      <td>80</td>\n",
              "      <td>59</td>\n",
              "      <td>47</td>\n",
              "      <td>-10</td>\n",
              "      <td>72</td>\n",
              "      <td>33</td>\n",
              "      <td>186</td>\n",
              "      <td>2</td>\n",
              "      <td>6</td>\n",
              "      <td>41</td>\n",
              "    </tr>\n",
              "  </tbody>\n",
              "</table>\n",
              "<p>300 rows × 17 columns</p>\n",
              "</div>"
            ],
            "text/plain": [
              "     Mason_Like  Mary_Like              title  ... acous spch  popularity\n",
              "0             0          1         Snake Eyes  ...     0    7          60\n",
              "1             0          1              Blame  ...     0   17          25\n",
              "2             0          1          rap music  ...    29   36          67\n",
              "3             0          1               spy?  ...     6    6          75\n",
              "4             0          1      North Memphis  ...     0    6          75\n",
              "..          ...        ...                ...  ...   ...  ...         ...\n",
              "295           0          1           Doubt Me  ...     0    8          52\n",
              "296           1          0               24/7  ...    55   24          50\n",
              "297           0          0     If It Was Easy  ...    44    5          49\n",
              "298           0          0  Top for a Pancake  ...     1   33          43\n",
              "299           0          0               333!  ...     2    6          41\n",
              "\n",
              "[300 rows x 17 columns]"
            ]
          },
          "metadata": {},
          "execution_count": 3
        }
      ]
    },
    {
      "cell_type": "markdown",
      "metadata": {
        "id": "8sK182hnmemW"
      },
      "source": [
        "## Exploratory Analysis"
      ]
    },
    {
      "cell_type": "markdown",
      "metadata": {
        "id": "p-Mkc2gFmzp0"
      },
      "source": [
        "### Do artists with a higher mean popularity have more top 100 hits?\n",
        "\n",
        "In our dataset we are given the popularity rating for each song. If we group songs by artist, we can find an artist's mean popularity in the scope of the top 100. "
      ]
    },
    {
      "cell_type": "code",
      "metadata": {
        "id": "r8Ctg7TYmiHa",
        "colab": {
          "base_uri": "https://localhost:8080/",
          "height": 423
        },
        "outputId": "c3ef84da-2eb2-46d2-f9a5-6e62fc24ea79"
      },
      "source": [
        "artists_100 = raw_songs[['artist', 'popularity']].iloc[200:, :]\n",
        "artists_grouped = artists_100.groupby('artist')\n",
        "mean_pop = pd.DataFrame(columns=['Artist', 'MeanPopularity', 'Hits'])\n",
        "#Insert data row by row for each artist\n",
        "for name, group in artists_grouped:\n",
        "  mean_pop.loc[-1] = [name, group['popularity'].mean(), group.shape[0]]\n",
        "  mean_pop.index = mean_pop.index + 1  # shifting index\n",
        "  mean_pop = mean_pop.sort_index() \n",
        "mean_pop = mean_pop.round()\n",
        "mean_pop\n"
      ],
      "execution_count": null,
      "outputs": [
        {
          "output_type": "execute_result",
          "data": {
            "text/html": [
              "<div>\n",
              "<style scoped>\n",
              "    .dataframe tbody tr th:only-of-type {\n",
              "        vertical-align: middle;\n",
              "    }\n",
              "\n",
              "    .dataframe tbody tr th {\n",
              "        vertical-align: top;\n",
              "    }\n",
              "\n",
              "    .dataframe thead th {\n",
              "        text-align: right;\n",
              "    }\n",
              "</style>\n",
              "<table border=\"1\" class=\"dataframe\">\n",
              "  <thead>\n",
              "    <tr style=\"text-align: right;\">\n",
              "      <th></th>\n",
              "      <th>Artist</th>\n",
              "      <th>MeanPopularity</th>\n",
              "      <th>Hits</th>\n",
              "    </tr>\n",
              "  </thead>\n",
              "  <tbody>\n",
              "    <tr>\n",
              "      <th>0</th>\n",
              "      <td>benny blanco</td>\n",
              "      <td>77.0</td>\n",
              "      <td>1</td>\n",
              "    </tr>\n",
              "    <tr>\n",
              "      <th>1</th>\n",
              "      <td>XXXTENTACION</td>\n",
              "      <td>85.0</td>\n",
              "      <td>2</td>\n",
              "    </tr>\n",
              "    <tr>\n",
              "      <th>2</th>\n",
              "      <td>Wiz Khalifa</td>\n",
              "      <td>56.0</td>\n",
              "      <td>1</td>\n",
              "    </tr>\n",
              "    <tr>\n",
              "      <th>3</th>\n",
              "      <td>Vance Joy</td>\n",
              "      <td>78.0</td>\n",
              "      <td>1</td>\n",
              "    </tr>\n",
              "    <tr>\n",
              "      <th>4</th>\n",
              "      <td>Twenty One Pilots</td>\n",
              "      <td>82.0</td>\n",
              "      <td>2</td>\n",
              "    </tr>\n",
              "    <tr>\n",
              "      <th>...</th>\n",
              "      <td>...</td>\n",
              "      <td>...</td>\n",
              "      <td>...</td>\n",
              "    </tr>\n",
              "    <tr>\n",
              "      <th>60</th>\n",
              "      <td>Alex Alexander</td>\n",
              "      <td>58.0</td>\n",
              "      <td>1</td>\n",
              "    </tr>\n",
              "    <tr>\n",
              "      <th>61</th>\n",
              "      <td>Alan Walker</td>\n",
              "      <td>73.0</td>\n",
              "      <td>1</td>\n",
              "    </tr>\n",
              "    <tr>\n",
              "      <th>62</th>\n",
              "      <td>5 Seconds of Summer</td>\n",
              "      <td>81.0</td>\n",
              "      <td>1</td>\n",
              "    </tr>\n",
              "    <tr>\n",
              "      <th>63</th>\n",
              "      <td>3NIGMA</td>\n",
              "      <td>43.0</td>\n",
              "      <td>1</td>\n",
              "    </tr>\n",
              "    <tr>\n",
              "      <th>64</th>\n",
              "      <td>24kGoldn</td>\n",
              "      <td>88.0</td>\n",
              "      <td>1</td>\n",
              "    </tr>\n",
              "  </tbody>\n",
              "</table>\n",
              "<p>65 rows × 3 columns</p>\n",
              "</div>"
            ],
            "text/plain": [
              "                 Artist  MeanPopularity Hits\n",
              "0          benny blanco            77.0    1\n",
              "1          XXXTENTACION            85.0    2\n",
              "2           Wiz Khalifa            56.0    1\n",
              "3             Vance Joy            78.0    1\n",
              "4     Twenty One Pilots            82.0    2\n",
              "..                  ...             ...  ...\n",
              "60       Alex Alexander            58.0    1\n",
              "61          Alan Walker            73.0    1\n",
              "62  5 Seconds of Summer            81.0    1\n",
              "63               3NIGMA            43.0    1\n",
              "64             24kGoldn            88.0    1\n",
              "\n",
              "[65 rows x 3 columns]"
            ]
          },
          "metadata": {},
          "execution_count": 4
        }
      ]
    },
    {
      "cell_type": "markdown",
      "metadata": {
        "id": "iMJ8u0tKrGfP"
      },
      "source": [
        "Now that we have our data, lets sort it by popularity and see if there is an obvious correlation"
      ]
    },
    {
      "cell_type": "code",
      "metadata": {
        "id": "hh-y4RJzrDuZ",
        "colab": {
          "base_uri": "https://localhost:8080/",
          "height": 363
        },
        "outputId": "c8b18c66-5a1f-419d-bde1-7eb05dc81e00"
      },
      "source": [
        "mean_pop.sort_values('MeanPopularity', ascending=False).head(10)"
      ],
      "execution_count": null,
      "outputs": [
        {
          "output_type": "execute_result",
          "data": {
            "text/html": [
              "<div>\n",
              "<style scoped>\n",
              "    .dataframe tbody tr th:only-of-type {\n",
              "        vertical-align: middle;\n",
              "    }\n",
              "\n",
              "    .dataframe tbody tr th {\n",
              "        vertical-align: top;\n",
              "    }\n",
              "\n",
              "    .dataframe thead th {\n",
              "        text-align: right;\n",
              "    }\n",
              "</style>\n",
              "<table border=\"1\" class=\"dataframe\">\n",
              "  <thead>\n",
              "    <tr style=\"text-align: right;\">\n",
              "      <th></th>\n",
              "      <th>Artist</th>\n",
              "      <th>MeanPopularity</th>\n",
              "      <th>Hits</th>\n",
              "    </tr>\n",
              "  </thead>\n",
              "  <tbody>\n",
              "    <tr>\n",
              "      <th>64</th>\n",
              "      <td>24kGoldn</td>\n",
              "      <td>88.0</td>\n",
              "      <td>1</td>\n",
              "    </tr>\n",
              "    <tr>\n",
              "      <th>46</th>\n",
              "      <td>Harry Styles</td>\n",
              "      <td>88.0</td>\n",
              "      <td>1</td>\n",
              "    </tr>\n",
              "    <tr>\n",
              "      <th>33</th>\n",
              "      <td>Lewis Capaldi</td>\n",
              "      <td>87.0</td>\n",
              "      <td>1</td>\n",
              "    </tr>\n",
              "    <tr>\n",
              "      <th>40</th>\n",
              "      <td>John Legend</td>\n",
              "      <td>86.0</td>\n",
              "      <td>1</td>\n",
              "    </tr>\n",
              "    <tr>\n",
              "      <th>58</th>\n",
              "      <td>Avicii</td>\n",
              "      <td>85.0</td>\n",
              "      <td>1</td>\n",
              "    </tr>\n",
              "    <tr>\n",
              "      <th>39</th>\n",
              "      <td>Juice WRLD</td>\n",
              "      <td>85.0</td>\n",
              "      <td>1</td>\n",
              "    </tr>\n",
              "    <tr>\n",
              "      <th>1</th>\n",
              "      <td>XXXTENTACION</td>\n",
              "      <td>85.0</td>\n",
              "      <td>2</td>\n",
              "    </tr>\n",
              "    <tr>\n",
              "      <th>57</th>\n",
              "      <td>Billie Eilish</td>\n",
              "      <td>85.0</td>\n",
              "      <td>3</td>\n",
              "    </tr>\n",
              "    <tr>\n",
              "      <th>43</th>\n",
              "      <td>James Arthur</td>\n",
              "      <td>85.0</td>\n",
              "      <td>1</td>\n",
              "    </tr>\n",
              "    <tr>\n",
              "      <th>7</th>\n",
              "      <td>The Weeknd</td>\n",
              "      <td>85.0</td>\n",
              "      <td>4</td>\n",
              "    </tr>\n",
              "  </tbody>\n",
              "</table>\n",
              "</div>"
            ],
            "text/plain": [
              "           Artist  MeanPopularity Hits\n",
              "64       24kGoldn            88.0    1\n",
              "46   Harry Styles            88.0    1\n",
              "33  Lewis Capaldi            87.0    1\n",
              "40    John Legend            86.0    1\n",
              "58         Avicii            85.0    1\n",
              "39     Juice WRLD            85.0    1\n",
              "1    XXXTENTACION            85.0    2\n",
              "57  Billie Eilish            85.0    3\n",
              "43   James Arthur            85.0    1\n",
              "7      The Weeknd            85.0    4"
            ]
          },
          "metadata": {},
          "execution_count": 5
        }
      ]
    },
    {
      "cell_type": "markdown",
      "metadata": {
        "id": "5a3M6SBrs7xM"
      },
      "source": [
        "The top 10 artists (in terms of mean popularity) only have one song on the list. "
      ]
    },
    {
      "cell_type": "code",
      "metadata": {
        "id": "IzTUhM8Cr-fx",
        "colab": {
          "base_uri": "https://localhost:8080/",
          "height": 363
        },
        "outputId": "f7165e2e-d667-4549-fcec-62b1c3dd556e"
      },
      "source": [
        "mean_pop.sort_values('MeanPopularity', ascending=False).tail(10)"
      ],
      "execution_count": null,
      "outputs": [
        {
          "output_type": "execute_result",
          "data": {
            "text/html": [
              "<div>\n",
              "<style scoped>\n",
              "    .dataframe tbody tr th:only-of-type {\n",
              "        vertical-align: middle;\n",
              "    }\n",
              "\n",
              "    .dataframe tbody tr th {\n",
              "        vertical-align: top;\n",
              "    }\n",
              "\n",
              "    .dataframe thead th {\n",
              "        text-align: right;\n",
              "    }\n",
              "</style>\n",
              "<table border=\"1\" class=\"dataframe\">\n",
              "  <thead>\n",
              "    <tr style=\"text-align: right;\">\n",
              "      <th></th>\n",
              "      <th>Artist</th>\n",
              "      <th>MeanPopularity</th>\n",
              "      <th>Hits</th>\n",
              "    </tr>\n",
              "  </thead>\n",
              "  <tbody>\n",
              "    <tr>\n",
              "      <th>47</th>\n",
              "      <td>Halsey</td>\n",
              "      <td>69.0</td>\n",
              "      <td>1</td>\n",
              "    </tr>\n",
              "    <tr>\n",
              "      <th>20</th>\n",
              "      <td>OMI</td>\n",
              "      <td>66.0</td>\n",
              "      <td>1</td>\n",
              "    </tr>\n",
              "    <tr>\n",
              "      <th>60</th>\n",
              "      <td>Alex Alexander</td>\n",
              "      <td>58.0</td>\n",
              "      <td>1</td>\n",
              "    </tr>\n",
              "    <tr>\n",
              "      <th>2</th>\n",
              "      <td>Wiz Khalifa</td>\n",
              "      <td>56.0</td>\n",
              "      <td>1</td>\n",
              "    </tr>\n",
              "    <tr>\n",
              "      <th>42</th>\n",
              "      <td>Jan Metternich</td>\n",
              "      <td>53.0</td>\n",
              "      <td>1</td>\n",
              "    </tr>\n",
              "    <tr>\n",
              "      <th>21</th>\n",
              "      <td>Ness The Kid</td>\n",
              "      <td>52.0</td>\n",
              "      <td>1</td>\n",
              "    </tr>\n",
              "    <tr>\n",
              "      <th>32</th>\n",
              "      <td>Liam Tracy</td>\n",
              "      <td>50.0</td>\n",
              "      <td>1</td>\n",
              "    </tr>\n",
              "    <tr>\n",
              "      <th>17</th>\n",
              "      <td>PTM</td>\n",
              "      <td>49.0</td>\n",
              "      <td>1</td>\n",
              "    </tr>\n",
              "    <tr>\n",
              "      <th>63</th>\n",
              "      <td>3NIGMA</td>\n",
              "      <td>43.0</td>\n",
              "      <td>1</td>\n",
              "    </tr>\n",
              "    <tr>\n",
              "      <th>36</th>\n",
              "      <td>King Jesse</td>\n",
              "      <td>41.0</td>\n",
              "      <td>1</td>\n",
              "    </tr>\n",
              "  </tbody>\n",
              "</table>\n",
              "</div>"
            ],
            "text/plain": [
              "            Artist  MeanPopularity Hits\n",
              "47          Halsey            69.0    1\n",
              "20             OMI            66.0    1\n",
              "60  Alex Alexander            58.0    1\n",
              "2      Wiz Khalifa            56.0    1\n",
              "42  Jan Metternich            53.0    1\n",
              "21    Ness The Kid            52.0    1\n",
              "32      Liam Tracy            50.0    1\n",
              "17             PTM            49.0    1\n",
              "63          3NIGMA            43.0    1\n",
              "36      King Jesse            41.0    1"
            ]
          },
          "metadata": {},
          "execution_count": 6
        }
      ]
    },
    {
      "cell_type": "markdown",
      "metadata": {
        "id": "L5am9LY9thPv"
      },
      "source": [
        "However, our bottom 10 artists all only have one song on the list. Lets look a bit deeper by analysing different slices of our dataframe. "
      ]
    },
    {
      "cell_type": "code",
      "metadata": {
        "id": "HKjqig6MtAfB",
        "colab": {
          "base_uri": "https://localhost:8080/"
        },
        "outputId": "e8881f34-d37e-4fa8-d8cb-78d90fcb41ee"
      },
      "source": [
        "print(mean_pop['MeanPopularity'].describe())\n",
        "top_half = mean_pop[mean_pop['MeanPopularity'] >= 81.0]\n",
        "bottom_half = mean_pop[mean_pop['MeanPopularity'] < 81.0]"
      ],
      "execution_count": null,
      "outputs": [
        {
          "output_type": "stream",
          "name": "stdout",
          "text": [
            "count    65.000000\n",
            "mean     76.476923\n",
            "std      11.131470\n",
            "min      41.000000\n",
            "25%      74.000000\n",
            "50%      81.000000\n",
            "75%      83.000000\n",
            "max      88.000000\n",
            "Name: MeanPopularity, dtype: float64\n"
          ]
        }
      ]
    },
    {
      "cell_type": "code",
      "metadata": {
        "id": "9U7eeKkxtucE",
        "colab": {
          "base_uri": "https://localhost:8080/"
        },
        "outputId": "983d50e1-b844-4dd6-fdd3-cfab8cc5a478"
      },
      "source": [
        "print(f\"Average # of hits for artists above 50th percentile: {top_half['Hits'].sum() / top_half['Hits'].shape[0]}\")\n",
        "print(f\"Average # of hits for artists below 50th percentile: {bottom_half['Hits'].sum() / bottom_half['Hits'].shape[0]}\\n\")"
      ],
      "execution_count": null,
      "outputs": [
        {
          "output_type": "stream",
          "name": "stdout",
          "text": [
            "Average # of hits for artists above 50th percentile: 1.6857142857142857\n",
            "Average # of hits for artists below 50th percentile: 1.3666666666666667\n",
            "\n"
          ]
        }
      ]
    },
    {
      "cell_type": "code",
      "metadata": {
        "id": "ysy6PmDSw6ro",
        "colab": {
          "base_uri": "https://localhost:8080/",
          "height": 406
        },
        "outputId": "8f20af25-477f-4438-df2b-b04621bf8584"
      },
      "source": [
        "sns.set(rc={'figure.figsize':(10,5)})\n",
        "data = mean_pop[['MeanPopularity', 'Hits']]\n",
        "fig = sns.barplot(x = data['MeanPopularity'], y = data['Hits'], ci=None)\n",
        "plt.xticks(rotation=90)"
      ],
      "execution_count": null,
      "outputs": [
        {
          "output_type": "execute_result",
          "data": {
            "text/plain": [
              "(array([ 0,  1,  2,  3,  4,  5,  6,  7,  8,  9, 10, 11, 12, 13, 14, 15, 16,\n",
              "        17, 18, 19, 20, 21, 22, 23, 24, 25, 26, 27, 28]),\n",
              " <a list of 29 Text major ticklabel objects>)"
            ]
          },
          "metadata": {},
          "execution_count": 15
        },
        {
          "output_type": "display_data",
          "data": {
            "image/png": "[encoded data removed]",
            "text/plain": [
              "<Figure size 720x360 with 1 Axes>"
            ]
          },
          "metadata": {}
        }
      ]
    },
    {
      "cell_type": "markdown",
      "metadata": {
        "id": "B82WJ9o2sZNE"
      },
      "source": [
        "There is a very slight correlation between mean popularity and # of top 100 hits. This effect would be better illustrated if we was able to obtain a more general artist popularity, rather than the one available in the bounds of this dataset. I believe the mean popularity does not represent true artist popularity as it is skewed by artists with one popular song, aka a 'One Hit Wonder'. "
      ]
    },
    {
      "cell_type": "markdown",
      "metadata": {
        "id": "SM7Wic-5xp0s"
      },
      "source": [
        "### How do generes stack up in terms of popularity and # of hits?\n",
        "We first need to do some aggregation on genres to simplify the grouping. Genres that fall under the base genres listed will be considered the same genre."
      ]
    },
    {
      "cell_type": "code",
      "metadata": {
        "id": "MxLHw-9myI9-",
        "colab": {
          "base_uri": "https://localhost:8080/"
        },
        "outputId": "5fece964-7ad0-4efb-9c82-e59252243452"
      },
      "source": [
        "base_genres = ['rap', 'pop', 'rock', 'hip hop', 'r&b', 'dance', 'metal', 'country']\n",
        "top = raw_songs.iloc[200:, :]\n",
        "for index, row in top.iterrows():\n",
        "    for genre in base_genres:\n",
        "      if genre in row['genre']:\n",
        "        raw_songs.at[index, 'genre'] = genre\n",
        "raw_songs['genre'].unique()"
      ],
      "execution_count": null,
      "outputs": [
        {
          "output_type": "execute_result",
          "data": {
            "text/plain": [
              "array(['dance', 'alternative metal', 'rap', 'pop', 'aesthetic rap',\n",
              "       'soundtrack', 'metal', 'meme rap', 'melodic metal',\n",
              "       'lgbtq+ hip hop', 'glam rock', 'christian metal',\n",
              "       'christian alternative rock', 'la pop', 'emo rap',\n",
              "       'modern alternative rock', 'k-pop girl group', 'viral rap',\n",
              "       'art pop', 'viral pop', 'oakland hip hop', 'conscious hip hop',\n",
              "       'australian rock', 'canadian hip hop', 'hip hop', 'atl hip hop',\n",
              "       'chicago rap', 'country', 'rock', 'east coast hip hop',\n",
              "       'alternative r&b', 'indie rap', 'bedroom pop', 'hawaiian hip hop',\n",
              "       'detroit hip hop', 'modern rock', 'canadian contemporary r&b',\n",
              "       'melodic rap', 'japanese metal', 'christian hip hop', 'r&b'],\n",
              "      dtype=object)"
            ]
          },
          "metadata": {},
          "execution_count": 25
        }
      ]
    },
    {
      "cell_type": "code",
      "metadata": {
        "id": "zheXmCwg0xcC",
        "colab": {
          "base_uri": "https://localhost:8080/",
          "height": 238
        },
        "outputId": "02deb053-ad9a-495f-a864-84dfd18c8676"
      },
      "source": [
        "genre_groups = top[['genre', 'popularity']].groupby('genre')\n",
        "genre_pop = pd.DataFrame(columns=['Genre', 'MeanPopularity', 'Hits'])\n",
        "#Insert data row by row for each artist\n",
        "for name, group in genre_groups:\n",
        "  genre_pop.loc[-1] = [name, group['popularity'].mean(), group.shape[0]]\n",
        "  genre_pop.index = genre_pop.index + 1  # shifting index\n",
        "  genre_pop = genre_pop.sort_index() \n",
        "genre_pop"
      ],
      "execution_count": null,
      "outputs": [
        {
          "output_type": "execute_result",
          "data": {
            "text/html": [
              "<div>\n",
              "<style scoped>\n",
              "    .dataframe tbody tr th:only-of-type {\n",
              "        vertical-align: middle;\n",
              "    }\n",
              "\n",
              "    .dataframe tbody tr th {\n",
              "        vertical-align: top;\n",
              "    }\n",
              "\n",
              "    .dataframe thead th {\n",
              "        text-align: right;\n",
              "    }\n",
              "</style>\n",
              "<table border=\"1\" class=\"dataframe\">\n",
              "  <thead>\n",
              "    <tr style=\"text-align: right;\">\n",
              "      <th></th>\n",
              "      <th>Genre</th>\n",
              "      <th>MeanPopularity</th>\n",
              "      <th>Hits</th>\n",
              "    </tr>\n",
              "  </thead>\n",
              "  <tbody>\n",
              "    <tr>\n",
              "      <th>0</th>\n",
              "      <td>rock</td>\n",
              "      <td>79.444444</td>\n",
              "      <td>9</td>\n",
              "    </tr>\n",
              "    <tr>\n",
              "      <th>1</th>\n",
              "      <td>rap</td>\n",
              "      <td>74.952381</td>\n",
              "      <td>21</td>\n",
              "    </tr>\n",
              "    <tr>\n",
              "      <th>2</th>\n",
              "      <td>r&amp;b</td>\n",
              "      <td>85.250000</td>\n",
              "      <td>4</td>\n",
              "    </tr>\n",
              "    <tr>\n",
              "      <th>3</th>\n",
              "      <td>pop</td>\n",
              "      <td>80.314286</td>\n",
              "      <td>35</td>\n",
              "    </tr>\n",
              "    <tr>\n",
              "      <th>4</th>\n",
              "      <td>hip hop</td>\n",
              "      <td>76.833333</td>\n",
              "      <td>6</td>\n",
              "    </tr>\n",
              "    <tr>\n",
              "      <th>5</th>\n",
              "      <td>dance</td>\n",
              "      <td>76.920000</td>\n",
              "      <td>25</td>\n",
              "    </tr>\n",
              "  </tbody>\n",
              "</table>\n",
              "</div>"
            ],
            "text/plain": [
              "     Genre  MeanPopularity Hits\n",
              "0     rock       79.444444    9\n",
              "1      rap       74.952381   21\n",
              "2      r&b       85.250000    4\n",
              "3      pop       80.314286   35\n",
              "4  hip hop       76.833333    6\n",
              "5    dance       76.920000   25"
            ]
          },
          "metadata": {},
          "execution_count": 26
        }
      ]
    },
    {
      "cell_type": "markdown",
      "metadata": {
        "id": "KdutGnH41-bS"
      },
      "source": [
        "With our data we could choose to make conclusions based on either mean popularity or # of hits."
      ]
    },
    {
      "cell_type": "code",
      "metadata": {
        "id": "6JG6hJZo16yM",
        "colab": {
          "base_uri": "https://localhost:8080/",
          "height": 238
        },
        "outputId": "e8051f5e-5906-4d97-88ad-797203cfab57"
      },
      "source": [
        "genre_pop.sort_values('MeanPopularity', ascending=False)"
      ],
      "execution_count": null,
      "outputs": [
        {
          "output_type": "execute_result",
          "data": {
            "text/html": [
              "<div>\n",
              "<style scoped>\n",
              "    .dataframe tbody tr th:only-of-type {\n",
              "        vertical-align: middle;\n",
              "    }\n",
              "\n",
              "    .dataframe tbody tr th {\n",
              "        vertical-align: top;\n",
              "    }\n",
              "\n",
              "    .dataframe thead th {\n",
              "        text-align: right;\n",
              "    }\n",
              "</style>\n",
              "<table border=\"1\" class=\"dataframe\">\n",
              "  <thead>\n",
              "    <tr style=\"text-align: right;\">\n",
              "      <th></th>\n",
              "      <th>Genre</th>\n",
              "      <th>MeanPopularity</th>\n",
              "      <th>Hits</th>\n",
              "    </tr>\n",
              "  </thead>\n",
              "  <tbody>\n",
              "    <tr>\n",
              "      <th>2</th>\n",
              "      <td>r&amp;b</td>\n",
              "      <td>85.250000</td>\n",
              "      <td>4</td>\n",
              "    </tr>\n",
              "    <tr>\n",
              "      <th>3</th>\n",
              "      <td>pop</td>\n",
              "      <td>80.314286</td>\n",
              "      <td>35</td>\n",
              "    </tr>\n",
              "    <tr>\n",
              "      <th>0</th>\n",
              "      <td>rock</td>\n",
              "      <td>79.444444</td>\n",
              "      <td>9</td>\n",
              "    </tr>\n",
              "    <tr>\n",
              "      <th>5</th>\n",
              "      <td>dance</td>\n",
              "      <td>76.920000</td>\n",
              "      <td>25</td>\n",
              "    </tr>\n",
              "    <tr>\n",
              "      <th>4</th>\n",
              "      <td>hip hop</td>\n",
              "      <td>76.833333</td>\n",
              "      <td>6</td>\n",
              "    </tr>\n",
              "    <tr>\n",
              "      <th>1</th>\n",
              "      <td>rap</td>\n",
              "      <td>74.952381</td>\n",
              "      <td>21</td>\n",
              "    </tr>\n",
              "  </tbody>\n",
              "</table>\n",
              "</div>"
            ],
            "text/plain": [
              "     Genre  MeanPopularity Hits\n",
              "2      r&b       85.250000    4\n",
              "3      pop       80.314286   35\n",
              "0     rock       79.444444    9\n",
              "5    dance       76.920000   25\n",
              "4  hip hop       76.833333    6\n",
              "1      rap       74.952381   21"
            ]
          },
          "metadata": {},
          "execution_count": 18
        }
      ]
    },
    {
      "cell_type": "markdown",
      "metadata": {
        "id": "jn77ScOf2MAW"
      },
      "source": [
        "As discussed in 'Do artists with a higher mean popularity have more top 100 hits?', MeanPopularity is not a very discriptive statistic as it is skewed by single hits. Using this stat would be misleading as it does not represent the genre as a whole as we intend to. "
      ]
    },
    {
      "cell_type": "code",
      "metadata": {
        "id": "LskkqXMm10FY",
        "colab": {
          "base_uri": "https://localhost:8080/",
          "height": 238
        },
        "outputId": "7dccf20d-d1a5-4d1e-807f-a37210ba0845"
      },
      "source": [
        "genre_pop.sort_values('Hits', ascending=False)"
      ],
      "execution_count": null,
      "outputs": [
        {
          "output_type": "execute_result",
          "data": {
            "text/html": [
              "<div>\n",
              "<style scoped>\n",
              "    .dataframe tbody tr th:only-of-type {\n",
              "        vertical-align: middle;\n",
              "    }\n",
              "\n",
              "    .dataframe tbody tr th {\n",
              "        vertical-align: top;\n",
              "    }\n",
              "\n",
              "    .dataframe thead th {\n",
              "        text-align: right;\n",
              "    }\n",
              "</style>\n",
              "<table border=\"1\" class=\"dataframe\">\n",
              "  <thead>\n",
              "    <tr style=\"text-align: right;\">\n",
              "      <th></th>\n",
              "      <th>Genre</th>\n",
              "      <th>MeanPopularity</th>\n",
              "      <th>Hits</th>\n",
              "    </tr>\n",
              "  </thead>\n",
              "  <tbody>\n",
              "    <tr>\n",
              "      <th>3</th>\n",
              "      <td>pop</td>\n",
              "      <td>80.314286</td>\n",
              "      <td>35</td>\n",
              "    </tr>\n",
              "    <tr>\n",
              "      <th>5</th>\n",
              "      <td>dance</td>\n",
              "      <td>76.920000</td>\n",
              "      <td>25</td>\n",
              "    </tr>\n",
              "    <tr>\n",
              "      <th>1</th>\n",
              "      <td>rap</td>\n",
              "      <td>74.952381</td>\n",
              "      <td>21</td>\n",
              "    </tr>\n",
              "    <tr>\n",
              "      <th>0</th>\n",
              "      <td>rock</td>\n",
              "      <td>79.444444</td>\n",
              "      <td>9</td>\n",
              "    </tr>\n",
              "    <tr>\n",
              "      <th>4</th>\n",
              "      <td>hip hop</td>\n",
              "      <td>76.833333</td>\n",
              "      <td>6</td>\n",
              "    </tr>\n",
              "    <tr>\n",
              "      <th>2</th>\n",
              "      <td>r&amp;b</td>\n",
              "      <td>85.250000</td>\n",
              "      <td>4</td>\n",
              "    </tr>\n",
              "  </tbody>\n",
              "</table>\n",
              "</div>"
            ],
            "text/plain": [
              "     Genre  MeanPopularity Hits\n",
              "3      pop       80.314286   35\n",
              "5    dance       76.920000   25\n",
              "1      rap       74.952381   21\n",
              "0     rock       79.444444    9\n",
              "4  hip hop       76.833333    6\n",
              "2      r&b       85.250000    4"
            ]
          },
          "metadata": {},
          "execution_count": 19
        }
      ]
    },
    {
      "cell_type": "markdown",
      "metadata": {
        "id": "SiX--1ng25Sm"
      },
      "source": [
        "Sorting by hits gives us a much better representation of genre popularity. Pop, Dance, and Rap make up 75% of the spotify top 100. When looking at the top three genres, mean popularity becomes a more reliable statistic as it has an actual distribution to describe. The top three genres in terms of hits are now correctly ordered in terms of mean popularity as well. "
      ]
    },
    {
      "cell_type": "code",
      "metadata": {
        "colab": {
          "base_uri": "https://localhost:8080/",
          "height": 382
        },
        "id": "dfw3G33W1rp2",
        "outputId": "5ff59994-8b74-4617-edfc-1299298014cf"
      },
      "source": [
        "sns.set(rc={'figure.figsize':(10,5)})\n",
        "new_df = genre_pop.set_index('Genre').sort_values('Hits', ascending=False)\n",
        "sns.relplot(y = new_df['Hits'], x=  new_df['MeanPopularity'], hue=new_df.index)"
      ],
      "execution_count": null,
      "outputs": [
        {
          "output_type": "execute_result",
          "data": {
            "text/plain": [
              "<seaborn.axisgrid.FacetGrid at 0x7f9be4c7e490>"
            ]
          },
          "metadata": {},
          "execution_count": 20
        },
        {
          "output_type": "display_data",
          "data": {
            "image/png": "[encoded data removed]",
            "text/plain": [
              "<Figure size 440.975x360 with 1 Axes>"
            ]
          },
          "metadata": {}
        }
      ]
    },
    {
      "cell_type": "markdown",
      "metadata": {
        "id": "rg-wEdXHFfAV"
      },
      "source": [
        "However, due to the small sample size and unreliability of the popularity metric, we are unable to see a correlation between mean artitst popularity and nubmer of hits."
      ]
    },
    {
      "cell_type": "markdown",
      "metadata": {
        "id": "cfN6qxFF2-Ab"
      },
      "source": [
        "### How popular are songs released in each year?"
      ]
    },
    {
      "cell_type": "markdown",
      "metadata": {
        "id": "1sUMWW1Q4Nfg"
      },
      "source": [
        "Using a similar method to the previous explorations, we need to isolate the relevant columns and find the mean of each year."
      ]
    },
    {
      "cell_type": "code",
      "metadata": {
        "id": "yc1Zs8GA9SZA",
        "colab": {
          "base_uri": "https://localhost:8080/",
          "height": 770
        },
        "outputId": "cb0e0bff-c6ff-42fb-b77d-18be67d7a988"
      },
      "source": [
        "years = raw_songs[[\"year\", \"popularity\"]]\n",
        "sortedYears = years.groupby(\"year\")\n",
        "yearPop = pd.DataFrame(columns = [\"Year\", \"Mean Popularity\", \"Amount\"])\n",
        "for year, group in sortedYears:\n",
        "  yearPop.loc[-1] = [year, group[\"popularity\"].mean(), group.shape[0]]\n",
        "  yearPop.index += 1\n",
        "  yearPop = yearPop.sort_index()\n",
        "\n",
        "yearPop"
      ],
      "execution_count": null,
      "outputs": [
        {
          "output_type": "execute_result",
          "data": {
            "text/html": [
              "<div>\n",
              "<style scoped>\n",
              "    .dataframe tbody tr th:only-of-type {\n",
              "        vertical-align: middle;\n",
              "    }\n",
              "\n",
              "    .dataframe tbody tr th {\n",
              "        vertical-align: top;\n",
              "    }\n",
              "\n",
              "    .dataframe thead th {\n",
              "        text-align: right;\n",
              "    }\n",
              "</style>\n",
              "<table border=\"1\" class=\"dataframe\">\n",
              "  <thead>\n",
              "    <tr style=\"text-align: right;\">\n",
              "      <th></th>\n",
              "      <th>Year</th>\n",
              "      <th>Mean Popularity</th>\n",
              "      <th>Amount</th>\n",
              "    </tr>\n",
              "  </thead>\n",
              "  <tbody>\n",
              "    <tr>\n",
              "      <th>0</th>\n",
              "      <td>2021.0</td>\n",
              "      <td>65.148148</td>\n",
              "      <td>27.0</td>\n",
              "    </tr>\n",
              "    <tr>\n",
              "      <th>1</th>\n",
              "      <td>2020.0</td>\n",
              "      <td>56.833333</td>\n",
              "      <td>24.0</td>\n",
              "    </tr>\n",
              "    <tr>\n",
              "      <th>2</th>\n",
              "      <td>2019.0</td>\n",
              "      <td>72.161290</td>\n",
              "      <td>31.0</td>\n",
              "    </tr>\n",
              "    <tr>\n",
              "      <th>3</th>\n",
              "      <td>2018.0</td>\n",
              "      <td>67.866667</td>\n",
              "      <td>45.0</td>\n",
              "    </tr>\n",
              "    <tr>\n",
              "      <th>4</th>\n",
              "      <td>2017.0</td>\n",
              "      <td>65.564103</td>\n",
              "      <td>39.0</td>\n",
              "    </tr>\n",
              "    <tr>\n",
              "      <th>5</th>\n",
              "      <td>2016.0</td>\n",
              "      <td>69.172414</td>\n",
              "      <td>29.0</td>\n",
              "    </tr>\n",
              "    <tr>\n",
              "      <th>6</th>\n",
              "      <td>2015.0</td>\n",
              "      <td>68.758621</td>\n",
              "      <td>29.0</td>\n",
              "    </tr>\n",
              "    <tr>\n",
              "      <th>7</th>\n",
              "      <td>2014.0</td>\n",
              "      <td>65.400000</td>\n",
              "      <td>15.0</td>\n",
              "    </tr>\n",
              "    <tr>\n",
              "      <th>8</th>\n",
              "      <td>2013.0</td>\n",
              "      <td>53.777778</td>\n",
              "      <td>9.0</td>\n",
              "    </tr>\n",
              "    <tr>\n",
              "      <th>9</th>\n",
              "      <td>2012.0</td>\n",
              "      <td>59.083333</td>\n",
              "      <td>12.0</td>\n",
              "    </tr>\n",
              "    <tr>\n",
              "      <th>10</th>\n",
              "      <td>2011.0</td>\n",
              "      <td>28.166667</td>\n",
              "      <td>6.0</td>\n",
              "    </tr>\n",
              "    <tr>\n",
              "      <th>11</th>\n",
              "      <td>2010.0</td>\n",
              "      <td>45.000000</td>\n",
              "      <td>4.0</td>\n",
              "    </tr>\n",
              "    <tr>\n",
              "      <th>12</th>\n",
              "      <td>2009.0</td>\n",
              "      <td>61.250000</td>\n",
              "      <td>4.0</td>\n",
              "    </tr>\n",
              "    <tr>\n",
              "      <th>13</th>\n",
              "      <td>2008.0</td>\n",
              "      <td>62.333333</td>\n",
              "      <td>6.0</td>\n",
              "    </tr>\n",
              "    <tr>\n",
              "      <th>14</th>\n",
              "      <td>2007.0</td>\n",
              "      <td>40.250000</td>\n",
              "      <td>4.0</td>\n",
              "    </tr>\n",
              "    <tr>\n",
              "      <th>15</th>\n",
              "      <td>2005.0</td>\n",
              "      <td>61.833333</td>\n",
              "      <td>6.0</td>\n",
              "    </tr>\n",
              "    <tr>\n",
              "      <th>16</th>\n",
              "      <td>2004.0</td>\n",
              "      <td>56.750000</td>\n",
              "      <td>4.0</td>\n",
              "    </tr>\n",
              "    <tr>\n",
              "      <th>17</th>\n",
              "      <td>2003.0</td>\n",
              "      <td>31.000000</td>\n",
              "      <td>1.0</td>\n",
              "    </tr>\n",
              "    <tr>\n",
              "      <th>18</th>\n",
              "      <td>1995.0</td>\n",
              "      <td>78.000000</td>\n",
              "      <td>1.0</td>\n",
              "    </tr>\n",
              "    <tr>\n",
              "      <th>19</th>\n",
              "      <td>1992.0</td>\n",
              "      <td>80.000000</td>\n",
              "      <td>1.0</td>\n",
              "    </tr>\n",
              "    <tr>\n",
              "      <th>20</th>\n",
              "      <td>1990.0</td>\n",
              "      <td>83.000000</td>\n",
              "      <td>1.0</td>\n",
              "    </tr>\n",
              "    <tr>\n",
              "      <th>21</th>\n",
              "      <td>1983.0</td>\n",
              "      <td>81.000000</td>\n",
              "      <td>1.0</td>\n",
              "    </tr>\n",
              "    <tr>\n",
              "      <th>22</th>\n",
              "      <td>1975.0</td>\n",
              "      <td>74.000000</td>\n",
              "      <td>1.0</td>\n",
              "    </tr>\n",
              "  </tbody>\n",
              "</table>\n",
              "</div>"
            ],
            "text/plain": [
              "      Year  Mean Popularity  Amount\n",
              "0   2021.0        65.148148    27.0\n",
              "1   2020.0        56.833333    24.0\n",
              "2   2019.0        72.161290    31.0\n",
              "3   2018.0        67.866667    45.0\n",
              "4   2017.0        65.564103    39.0\n",
              "5   2016.0        69.172414    29.0\n",
              "6   2015.0        68.758621    29.0\n",
              "7   2014.0        65.400000    15.0\n",
              "8   2013.0        53.777778     9.0\n",
              "9   2012.0        59.083333    12.0\n",
              "10  2011.0        28.166667     6.0\n",
              "11  2010.0        45.000000     4.0\n",
              "12  2009.0        61.250000     4.0\n",
              "13  2008.0        62.333333     6.0\n",
              "14  2007.0        40.250000     4.0\n",
              "15  2005.0        61.833333     6.0\n",
              "16  2004.0        56.750000     4.0\n",
              "17  2003.0        31.000000     1.0\n",
              "18  1995.0        78.000000     1.0\n",
              "19  1992.0        80.000000     1.0\n",
              "20  1990.0        83.000000     1.0\n",
              "21  1983.0        81.000000     1.0\n",
              "22  1975.0        74.000000     1.0"
            ]
          },
          "metadata": {},
          "execution_count": 21
        }
      ]
    },
    {
      "cell_type": "markdown",
      "metadata": {
        "id": "u0BQdvbRIWTC"
      },
      "source": [
        "It is interesting to note that the majority of the songs from our dataset are from 2015-2021. Below is a graph of mean popularity of years contained in our dataset. It trends downward due to the popularity of the songs from the 70s, 80s, and 90s. There is only one song in each of the points from that date range, so these songs may be popular due to nostalgia. As such, we considered them as outliers."
      ]
    },
    {
      "cell_type": "code",
      "metadata": {
        "colab": {
          "base_uri": "https://localhost:8080/",
          "height": 356
        },
        "id": "vUVfG15a5JJJ",
        "outputId": "89426cce-2e4f-4c4f-d52e-d3da73416d51"
      },
      "source": [
        "sns.regplot(x=yearPop['Year'], y=yearPop['Mean Popularity'])\n"
      ],
      "execution_count": null,
      "outputs": [
        {
          "output_type": "execute_result",
          "data": {
            "text/plain": [
              "<matplotlib.axes._subplots.AxesSubplot at 0x7f9be4a49910>"
            ]
          },
          "metadata": {},
          "execution_count": 23
        },
        {
          "output_type": "display_data",
          "data": {
            "image/png": "[encoded data removed]",
            "text/plain": [
              "<Figure size 720x360 with 1 Axes>"
            ]
          },
          "metadata": {}
        }
      ]
    },
    {
      "cell_type": "markdown",
      "metadata": {
        "id": "CvRVYR_2Vj9j"
      },
      "source": [
        "Below, we have a look at the data with the outliers removed. Based on this, the popularity of songs appears to trend upward as they become more recent. The shaded area around the line of best fit shows that the relationship is not strong, but still positive. "
      ]
    },
    {
      "cell_type": "code",
      "metadata": {
        "colab": {
          "base_uri": "https://localhost:8080/",
          "height": 356
        },
        "id": "0MtFpd8H7-hz",
        "outputId": "29aba090-efdb-4b12-9ffe-e124824a830a"
      },
      "source": [
        "newPop = yearPop.sort_values(\"Year\", ascending = False).loc[:17, :]\n",
        "sns.regplot(x=newPop['Year'], y=newPop['Mean Popularity'])"
      ],
      "execution_count": null,
      "outputs": [
        {
          "output_type": "execute_result",
          "data": {
            "text/plain": [
              "<matplotlib.axes._subplots.AxesSubplot at 0x7f9bdc199190>"
            ]
          },
          "metadata": {},
          "execution_count": 24
        },
        {
          "output_type": "display_data",
          "data": {
            "image/png": "[encoded data removed]",
            "text/plain": [
              "<Figure size 720x360 with 1 Axes>"
            ]
          },
          "metadata": {}
        }
      ]
    }
  ]
}